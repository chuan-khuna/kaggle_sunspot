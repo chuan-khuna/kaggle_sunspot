{
 "cells": [
  {
   "cell_type": "code",
   "execution_count": 1,
   "metadata": {},
   "outputs": [],
   "source": [
    "import numpy as np\n",
    "import pandas as pd\n",
    "\n",
    "import matplotlib.pyplot as plt\n",
    "import seaborn as sns\n",
    "\n",
    "sns.set(context='paper', style='whitegrid', rc={'figure.figsize':(8, 5), 'figure.dpi': 120})\n",
    "color_palette = sns.color_palette(\"Set2\")\n",
    "sns.set_palette(color_palette)\n",
    "\n",
    "seed_ = 20200218\n",
    "np.random.seed(seed_)\n",
    "\n",
    "\n",
    "import keras\n",
    "from keras.models import Sequential\n",
    "from keras.layers import Dense, LSTM, RNN, Activation\n",
    "from keras.optimizers import *\n",
    "\n",
    "import tensorflow as tf\n",
    "tf.random.set_seed(seed_)\n",
    "physical_devices = tf.config.list_physical_devices('GPU')\n",
    "tf.config.experimental.set_memory_growth(physical_devices[0], enable=True)"
   ]
  },
  {
   "cell_type": "code",
   "execution_count": 2,
   "metadata": {},
   "outputs": [],
   "source": [
    "df = pd.read_csv(\"./data/sunspots.csv\")"
   ]
  },
  {
   "cell_type": "code",
   "execution_count": 3,
   "metadata": {},
   "outputs": [
    {
     "data": {
      "text/html": [
       "<div>\n",
       "<style scoped>\n",
       "    .dataframe tbody tr th:only-of-type {\n",
       "        vertical-align: middle;\n",
       "    }\n",
       "\n",
       "    .dataframe tbody tr th {\n",
       "        vertical-align: top;\n",
       "    }\n",
       "\n",
       "    .dataframe thead th {\n",
       "        text-align: right;\n",
       "    }\n",
       "</style>\n",
       "<table border=\"1\" class=\"dataframe\">\n",
       "  <thead>\n",
       "    <tr style=\"text-align: right;\">\n",
       "      <th></th>\n",
       "      <th>Unnamed: 0</th>\n",
       "      <th>Date</th>\n",
       "      <th>Monthly Mean Total Sunspot Number</th>\n",
       "    </tr>\n",
       "  </thead>\n",
       "  <tbody>\n",
       "    <tr>\n",
       "      <th>0</th>\n",
       "      <td>0</td>\n",
       "      <td>1749-01-31</td>\n",
       "      <td>96.7</td>\n",
       "    </tr>\n",
       "    <tr>\n",
       "      <th>1</th>\n",
       "      <td>1</td>\n",
       "      <td>1749-02-28</td>\n",
       "      <td>104.3</td>\n",
       "    </tr>\n",
       "    <tr>\n",
       "      <th>2</th>\n",
       "      <td>2</td>\n",
       "      <td>1749-03-31</td>\n",
       "      <td>116.7</td>\n",
       "    </tr>\n",
       "    <tr>\n",
       "      <th>3</th>\n",
       "      <td>3</td>\n",
       "      <td>1749-04-30</td>\n",
       "      <td>92.8</td>\n",
       "    </tr>\n",
       "    <tr>\n",
       "      <th>4</th>\n",
       "      <td>4</td>\n",
       "      <td>1749-05-31</td>\n",
       "      <td>141.7</td>\n",
       "    </tr>\n",
       "  </tbody>\n",
       "</table>\n",
       "</div>"
      ],
      "text/plain": [
       "   Unnamed: 0        Date  Monthly Mean Total Sunspot Number\n",
       "0           0  1749-01-31                               96.7\n",
       "1           1  1749-02-28                              104.3\n",
       "2           2  1749-03-31                              116.7\n",
       "3           3  1749-04-30                               92.8\n",
       "4           4  1749-05-31                              141.7"
      ]
     },
     "execution_count": 3,
     "metadata": {},
     "output_type": "execute_result"
    }
   ],
   "source": [
    "df.head()"
   ]
  },
  {
   "cell_type": "markdown",
   "metadata": {},
   "source": [
    "### drop first column and rename column"
   ]
  },
  {
   "cell_type": "code",
   "execution_count": 4,
   "metadata": {},
   "outputs": [],
   "source": [
    "df.drop(columns=[df.columns[0]], axis=1, inplace=True)"
   ]
  },
  {
   "cell_type": "code",
   "execution_count": 5,
   "metadata": {},
   "outputs": [],
   "source": [
    "df.rename(columns={df.columns[1]: 'monthly_sunspot'}, inplace=True)"
   ]
  },
  {
   "cell_type": "code",
   "execution_count": 6,
   "metadata": {},
   "outputs": [],
   "source": [
    "df['Date'] = pd.to_datetime(df['Date'])"
   ]
  },
  {
   "cell_type": "code",
   "execution_count": 7,
   "metadata": {},
   "outputs": [
    {
     "data": {
      "text/html": [
       "<div>\n",
       "<style scoped>\n",
       "    .dataframe tbody tr th:only-of-type {\n",
       "        vertical-align: middle;\n",
       "    }\n",
       "\n",
       "    .dataframe tbody tr th {\n",
       "        vertical-align: top;\n",
       "    }\n",
       "\n",
       "    .dataframe thead th {\n",
       "        text-align: right;\n",
       "    }\n",
       "</style>\n",
       "<table border=\"1\" class=\"dataframe\">\n",
       "  <thead>\n",
       "    <tr style=\"text-align: right;\">\n",
       "      <th></th>\n",
       "      <th>Date</th>\n",
       "      <th>monthly_sunspot</th>\n",
       "    </tr>\n",
       "  </thead>\n",
       "  <tbody>\n",
       "    <tr>\n",
       "      <th>0</th>\n",
       "      <td>1749-01-31</td>\n",
       "      <td>96.7</td>\n",
       "    </tr>\n",
       "    <tr>\n",
       "      <th>1</th>\n",
       "      <td>1749-02-28</td>\n",
       "      <td>104.3</td>\n",
       "    </tr>\n",
       "    <tr>\n",
       "      <th>2</th>\n",
       "      <td>1749-03-31</td>\n",
       "      <td>116.7</td>\n",
       "    </tr>\n",
       "    <tr>\n",
       "      <th>3</th>\n",
       "      <td>1749-04-30</td>\n",
       "      <td>92.8</td>\n",
       "    </tr>\n",
       "    <tr>\n",
       "      <th>4</th>\n",
       "      <td>1749-05-31</td>\n",
       "      <td>141.7</td>\n",
       "    </tr>\n",
       "  </tbody>\n",
       "</table>\n",
       "</div>"
      ],
      "text/plain": [
       "        Date  monthly_sunspot\n",
       "0 1749-01-31             96.7\n",
       "1 1749-02-28            104.3\n",
       "2 1749-03-31            116.7\n",
       "3 1749-04-30             92.8\n",
       "4 1749-05-31            141.7"
      ]
     },
     "execution_count": 7,
     "metadata": {},
     "output_type": "execute_result"
    }
   ],
   "source": [
    "df.head()"
   ]
  },
  {
   "cell_type": "code",
   "execution_count": 8,
   "metadata": {},
   "outputs": [
    {
     "name": "stdout",
     "output_type": "stream",
     "text": [
      "<class 'pandas.core.frame.DataFrame'>\n",
      "RangeIndex: 3252 entries, 0 to 3251\n",
      "Data columns (total 2 columns):\n",
      " #   Column           Non-Null Count  Dtype         \n",
      "---  ------           --------------  -----         \n",
      " 0   Date             3252 non-null   datetime64[ns]\n",
      " 1   monthly_sunspot  3252 non-null   float64       \n",
      "dtypes: datetime64[ns](1), float64(1)\n",
      "memory usage: 50.9 KB\n"
     ]
    }
   ],
   "source": [
    "df.info()"
   ]
  },
  {
   "cell_type": "markdown",
   "metadata": {},
   "source": [
    "## \n",
    "### preprocessing function"
   ]
  },
  {
   "cell_type": "code",
   "execution_count": 9,
   "metadata": {},
   "outputs": [],
   "source": [
    "def windowing_arr(series, window_size, shuffle_buffer):\n",
    "    ds = tf.data.Dataset.from_tensor_slices(series)\n",
    "    ds = ds.window(window_size + 1, shift=1, drop_remainder=True)\n",
    "    ds = ds.flat_map(lambda window: window.batch(window_size + 1))\n",
    "    ds = ds.shuffle(shuffle_buffer)\n",
    "    ds = ds.map(lambda window: (window[:-1], window[-1:]))\n",
    "    return ds\n",
    "\n",
    "def tensor_ds_to_X_Y(tensor_ds):\n",
    "    X = []\n",
    "    Y = []\n",
    "    \n",
    "    for window in ds:\n",
    "        x, y = window\n",
    "        X.append(x.numpy())\n",
    "        Y.append(y.numpy())\n",
    "    X = np.asarray(X)\n",
    "    Y = np.asarray(Y)\n",
    "    return X, Y"
   ]
  },
  {
   "cell_type": "markdown",
   "metadata": {},
   "source": [
    "#### preprocessing data"
   ]
  },
  {
   "cell_type": "code",
   "execution_count": 10,
   "metadata": {},
   "outputs": [],
   "source": [
    "window_size = 30\n",
    "batch_size = 24\n",
    "shuffle_buffer = 1000\n",
    "\n",
    "split_time = 2800\n",
    "\n",
    "sunspot = df['monthly_sunspot']\n",
    "\n",
    "train = sunspot[:split_time]\n",
    "dev = sunspot[split_time:]\n",
    "\n",
    "ds = windowing_arr(train, window_size, shuffle_buffer)\n",
    "X, Y = tensor_ds_to_X_Y(ds)\n",
    "\n",
    "ds_dev = windowing_arr(dev, window_size, shuffle_buffer)\n",
    "X_dev, Y_dev = tensor_ds_to_X_Y(ds_dev)"
   ]
  },
  {
   "cell_type": "markdown",
   "metadata": {},
   "source": [
    "## \n",
    "### Model"
   ]
  },
  {
   "cell_type": "code",
   "execution_count": 11,
   "metadata": {},
   "outputs": [],
   "source": [
    "model = Sequential()\n",
    "model.add(Dense(4, input_shape=[window_size], activation='relu'))\n",
    "model.add(Dense(1))"
   ]
  },
  {
   "cell_type": "code",
   "execution_count": 12,
   "metadata": {},
   "outputs": [],
   "source": [
    "model.compile(optimizer='adam', loss='mean_absolute_error')"
   ]
  },
  {
   "cell_type": "code",
   "execution_count": 13,
   "metadata": {},
   "outputs": [
    {
     "name": "stdout",
     "output_type": "stream",
     "text": [
      "Epoch 1/50\n",
      "116/116 [==============================] - 0s 4ms/step - loss: 90.5687 - val_loss: 50.4933\n",
      "Epoch 2/50\n",
      "116/116 [==============================] - 0s 3ms/step - loss: 40.8686 - val_loss: 38.8963\n",
      "Epoch 3/50\n",
      "116/116 [==============================] - 0s 3ms/step - loss: 33.7517 - val_loss: 30.8851\n",
      "Epoch 4/50\n",
      "116/116 [==============================] - 0s 3ms/step - loss: 29.9159 - val_loss: 28.0973\n",
      "Epoch 5/50\n",
      "116/116 [==============================] - 0s 3ms/step - loss: 27.4608 - val_loss: 26.0545\n",
      "Epoch 6/50\n",
      "116/116 [==============================] - 0s 3ms/step - loss: 25.5326 - val_loss: 24.1421\n",
      "Epoch 7/50\n",
      "116/116 [==============================] - 0s 3ms/step - loss: 23.7636 - val_loss: 22.8082\n",
      "Epoch 8/50\n",
      "116/116 [==============================] - 0s 4ms/step - loss: 23.0260 - val_loss: 21.6791\n",
      "Epoch 9/50\n",
      "116/116 [==============================] - 0s 3ms/step - loss: 21.3990 - val_loss: 21.5712\n",
      "Epoch 10/50\n",
      "116/116 [==============================] - 0s 3ms/step - loss: 20.6860 - val_loss: 20.8953\n",
      "Epoch 11/50\n",
      "116/116 [==============================] - 0s 3ms/step - loss: 20.3003 - val_loss: 19.2794\n",
      "Epoch 12/50\n",
      "116/116 [==============================] - 0s 3ms/step - loss: 19.7403 - val_loss: 18.7932\n",
      "Epoch 13/50\n",
      "116/116 [==============================] - 0s 3ms/step - loss: 19.0963 - val_loss: 18.5557\n",
      "Epoch 14/50\n",
      "116/116 [==============================] - 0s 3ms/step - loss: 18.7810 - val_loss: 18.7422\n",
      "Epoch 15/50\n",
      "116/116 [==============================] - 0s 3ms/step - loss: 18.4917 - val_loss: 18.0485\n",
      "Epoch 16/50\n",
      "116/116 [==============================] - 0s 3ms/step - loss: 18.2925 - val_loss: 17.9487\n",
      "Epoch 17/50\n",
      "116/116 [==============================] - 0s 3ms/step - loss: 18.2002 - val_loss: 17.7878\n",
      "Epoch 18/50\n",
      "116/116 [==============================] - 0s 3ms/step - loss: 18.1249 - val_loss: 17.8098\n",
      "Epoch 19/50\n",
      "116/116 [==============================] - 0s 3ms/step - loss: 18.5573 - val_loss: 18.1162\n",
      "Epoch 20/50\n",
      "116/116 [==============================] - 0s 4ms/step - loss: 18.3978 - val_loss: 17.7688\n",
      "Epoch 21/50\n",
      "116/116 [==============================] - 0s 3ms/step - loss: 17.9900 - val_loss: 17.6603\n",
      "Epoch 22/50\n",
      "116/116 [==============================] - 0s 3ms/step - loss: 18.2235 - val_loss: 17.6722\n",
      "Epoch 23/50\n",
      "116/116 [==============================] - 0s 3ms/step - loss: 17.9797 - val_loss: 17.9511\n",
      "Epoch 24/50\n",
      "116/116 [==============================] - 0s 3ms/step - loss: 18.1048 - val_loss: 17.6768\n",
      "Epoch 25/50\n",
      "116/116 [==============================] - 0s 3ms/step - loss: 18.0041 - val_loss: 19.2690\n",
      "Epoch 26/50\n",
      "116/116 [==============================] - 0s 3ms/step - loss: 17.9167 - val_loss: 17.6735\n",
      "Epoch 27/50\n",
      "116/116 [==============================] - 0s 3ms/step - loss: 17.8241 - val_loss: 17.5501\n",
      "Epoch 28/50\n",
      "116/116 [==============================] - 0s 3ms/step - loss: 17.7447 - val_loss: 17.6426\n",
      "Epoch 29/50\n",
      "116/116 [==============================] - 0s 3ms/step - loss: 18.0958 - val_loss: 17.7790\n",
      "Epoch 30/50\n",
      "116/116 [==============================] - 0s 3ms/step - loss: 18.0723 - val_loss: 17.6121\n",
      "Epoch 31/50\n",
      "116/116 [==============================] - 0s 3ms/step - loss: 18.0675 - val_loss: 18.9309\n",
      "Epoch 32/50\n",
      "116/116 [==============================] - 0s 3ms/step - loss: 18.1643 - val_loss: 18.0658\n",
      "Epoch 33/50\n",
      "116/116 [==============================] - 0s 3ms/step - loss: 17.9548 - val_loss: 18.3587\n",
      "Epoch 34/50\n",
      "116/116 [==============================] - 0s 3ms/step - loss: 18.4827 - val_loss: 19.1016\n",
      "Epoch 35/50\n",
      "116/116 [==============================] - 0s 3ms/step - loss: 18.1137 - val_loss: 17.5746\n",
      "Epoch 36/50\n",
      "116/116 [==============================] - 0s 3ms/step - loss: 18.0588 - val_loss: 18.2059\n",
      "Epoch 37/50\n",
      "116/116 [==============================] - 0s 3ms/step - loss: 17.9691 - val_loss: 17.7480\n",
      "Epoch 38/50\n",
      "116/116 [==============================] - 0s 3ms/step - loss: 18.0451 - val_loss: 18.9431\n",
      "Epoch 39/50\n",
      "116/116 [==============================] - 0s 3ms/step - loss: 18.2951 - val_loss: 17.9159\n",
      "Epoch 40/50\n",
      "116/116 [==============================] - 0s 3ms/step - loss: 18.0360 - val_loss: 19.1055\n",
      "Epoch 41/50\n",
      "116/116 [==============================] - 0s 3ms/step - loss: 17.8440 - val_loss: 17.5809\n",
      "Epoch 42/50\n",
      "116/116 [==============================] - 0s 3ms/step - loss: 17.9049 - val_loss: 17.8636\n",
      "Epoch 43/50\n",
      "116/116 [==============================] - 0s 3ms/step - loss: 17.8748 - val_loss: 17.5735\n",
      "Epoch 44/50\n",
      "116/116 [==============================] - 0s 3ms/step - loss: 17.8156 - val_loss: 17.7469\n",
      "Epoch 45/50\n",
      "116/116 [==============================] - 0s 3ms/step - loss: 17.8978 - val_loss: 18.1024\n",
      "Epoch 46/50\n",
      "116/116 [==============================] - 0s 3ms/step - loss: 18.1064 - val_loss: 18.0657\n",
      "Epoch 47/50\n",
      "116/116 [==============================] - 0s 3ms/step - loss: 18.0376 - val_loss: 17.6057\n",
      "Epoch 48/50\n",
      "116/116 [==============================] - 0s 3ms/step - loss: 17.7530 - val_loss: 18.3686\n",
      "Epoch 49/50\n",
      "116/116 [==============================] - 0s 3ms/step - loss: 17.8853 - val_loss: 18.3667\n",
      "Epoch 50/50\n",
      "116/116 [==============================] - 0s 3ms/step - loss: 17.7988 - val_loss: 17.9980\n"
     ]
    }
   ],
   "source": [
    "hist = model.fit(X, Y, epochs=50, batch_size=batch_size, validation_data=(X_dev, Y_dev))"
   ]
  },
  {
   "cell_type": "code",
   "execution_count": 14,
   "metadata": {},
   "outputs": [
    {
     "data": {
      "text/plain": [
       "<matplotlib.axes._subplots.AxesSubplot at 0x17b81418af0>"
      ]
     },
     "execution_count": 14,
     "metadata": {},
     "output_type": "execute_result"
    },
    {
     "data": {
      "image/png": "[encoded data removed]",
      "text/plain": [
       "<Figure size 960x600 with 1 Axes>"
      ]
     },
     "metadata": {},
     "output_type": "display_data"
    }
   ],
   "source": [
    "loss = hist.history['loss']\n",
    "loss_val = hist.history['val_loss']\n",
    "t = np.arange(1, len(loss)+1)\n",
    "sns.lineplot(t, loss, label='loss')\n",
    "t_val = np.arange(1, len(loss_val)+1)\n",
    "sns.lineplot(t_val, loss_val, label='val loss')"
   ]
  },
  {
   "cell_type": "code",
   "execution_count": 15,
   "metadata": {},
   "outputs": [
    {
     "data": {
      "text/plain": [
       "array([ 21.3,  41.7,  85.5,  66.2,  54.2, 107.8,  55.8,  62.7,  86.7,\n",
       "        81.7, 120.5,  77.3,  75. ,  73.3,  64.5, 104.2,  62.8,  71.7,\n",
       "        71.7,  80.5,  73.3,  78. ,  78.3,  81.7,  83.3,  85. , 118.8,\n",
       "       128.7,  99.5,  77.2])"
      ]
     },
     "execution_count": 15,
     "metadata": {},
     "output_type": "execute_result"
    }
   ],
   "source": [
    "X[0]"
   ]
  },
  {
   "cell_type": "code",
   "execution_count": 16,
   "metadata": {},
   "outputs": [
    {
     "data": {
      "text/plain": [
       "array([95.])"
      ]
     },
     "execution_count": 16,
     "metadata": {},
     "output_type": "execute_result"
    }
   ],
   "source": [
    "Y[0]"
   ]
  },
  {
   "cell_type": "code",
   "execution_count": 17,
   "metadata": {},
   "outputs": [
    {
     "data": {
      "text/plain": [
       "array([[92.238884]], dtype=float32)"
      ]
     },
     "execution_count": 17,
     "metadata": {},
     "output_type": "execute_result"
    }
   ],
   "source": [
    "model.predict(np.array([X[0]]))"
   ]
  },
  {
   "cell_type": "markdown",
   "metadata": {},
   "source": [
    "## plot predicted"
   ]
  },
  {
   "cell_type": "code",
   "execution_count": 18,
   "metadata": {},
   "outputs": [
    {
     "data": {
      "text/plain": [
       "3252"
      ]
     },
     "execution_count": 18,
     "metadata": {},
     "output_type": "execute_result"
    }
   ],
   "source": [
    "sample_size = len(sunspot)\n",
    "sample_size"
   ]
  },
  {
   "cell_type": "code",
   "execution_count": 19,
   "metadata": {},
   "outputs": [
    {
     "data": {
      "text/plain": [
       "30"
      ]
     },
     "execution_count": 19,
     "metadata": {},
     "output_type": "execute_result"
    }
   ],
   "source": [
    "window_size"
   ]
  },
  {
   "cell_type": "code",
   "execution_count": null,
   "metadata": {},
   "outputs": [],
   "source": [
    "predicted = []\n",
    "for time in range(sample_size-window_size):\n",
    "    x = sunspot[time:time+window_size]\n",
    "    predicted.append(model.predict(np.array([x])))"
   ]
  },
  {
   "cell_type": "code",
   "execution_count": null,
   "metadata": {},
   "outputs": [],
   "source": [
    "predicted = np.array(predicted).squeeze()"
   ]
  },
  {
   "cell_type": "code",
   "execution_count": null,
   "metadata": {},
   "outputs": [],
   "source": [
    "x = np.arange(sample_size)\n",
    "sns.lineplot(x, sunspot, label='actual')\n",
    "sns.lineplot(x[window_size:], predicted, label='forecast')"
   ]
  },
  {
   "cell_type": "code",
   "execution_count": null,
   "metadata": {},
   "outputs": [],
   "source": [
    "x = np.arange(split_time, sample_size)\n",
    "sns.lineplot(x, sunspot[split_time:], label='actual')\n",
    "sns.lineplot(x, predicted[split_time-window_size:], label='forecast')"
   ]
  }
 ],
 "metadata": {
  "kernelspec": {
   "display_name": "Python 3",
   "language": "python",
   "name": "python3"
  },
  "language_info": {
   "codemirror_mode": {
    "name": "ipython",
    "version": 3
   },
   "file_extension": ".py",
   "mimetype": "text/x-python",
   "name": "python",
   "nbconvert_exporter": "python",
   "pygments_lexer": "ipython3",
   "version": "3.8.3"
  }
 },
 "nbformat": 4,
 "nbformat_minor": 4
}
