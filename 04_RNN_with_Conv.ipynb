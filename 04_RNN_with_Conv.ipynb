{
 "cells": [
  {
   "cell_type": "code",
   "execution_count": 1,
   "metadata": {
    "execution": {
     "iopub.execute_input": "2020-07-28T08:23:24.907352Z",
     "iopub.status.busy": "2020-07-28T08:23:24.907352Z",
     "iopub.status.idle": "2020-07-28T08:23:28.178098Z",
     "shell.execute_reply": "2020-07-28T08:23:28.178098Z",
     "shell.execute_reply.started": "2020-07-28T08:23:24.907352Z"
    }
   },
   "outputs": [],
   "source": [
    "import numpy as np\n",
    "import pandas as pd\n",
    "\n",
    "import matplotlib.pyplot as plt\n",
    "import seaborn as sns\n",
    "\n",
    "sns.set(context=\"paper\", style=\"whitegrid\", \n",
    "       rc={\n",
    "           \"figure.figsize\": (21/2, 9/2),\n",
    "           \"figure.dpi\": 100\n",
    "       })\n",
    "google = [\"#4285F4\", \"#DB4437\", \"#F4B400\", \"#0F9D58\"]\n",
    "sns.set_palette(google)\n",
    "\n",
    "seed_ = 20200218\n",
    "np.random.seed(seed_)\n",
    "\n",
    "\n",
    "import keras\n",
    "from keras.models import Sequential\n",
    "from keras.layers import Dense, LSTM, RNN, Activation, Conv1D, Lambda\n",
    "from keras.optimizers import *\n",
    "\n",
    "import tensorflow as tf\n",
    "tf.random.set_seed(seed_)"
   ]
  },
  {
   "cell_type": "markdown",
   "metadata": {},
   "source": [
    "### preprocess function"
   ]
  },
  {
   "cell_type": "markdown",
   "metadata": {},
   "source": [
    "### มันมีอีกแบบนึง\n",
    "```python\n",
    "ds = ds.map(lambda window: (window[:-output_size], window[output_size:]))\n",
    "```\n",
    "> (window[:-output_size], window[output_size:]) จะใช้เป็น output จนจบ\n",
    "\n",
    "เหมือนเป็นการ shift ข้อมูล\n",
    "\n",
    "`[1, 2, 3, 4, 5] [6]`\n",
    "\n",
    "`[1, 2, 3, 4, 5], [2, 3, 4, 5, 6]`"
   ]
  },
  {
   "cell_type": "code",
   "execution_count": 2,
   "metadata": {
    "execution": {
     "iopub.execute_input": "2020-07-28T08:23:28.180090Z",
     "iopub.status.busy": "2020-07-28T08:23:28.180090Z",
     "iopub.status.idle": "2020-07-28T08:23:28.191092Z",
     "shell.execute_reply": "2020-07-28T08:23:28.191092Z",
     "shell.execute_reply.started": "2020-07-28T08:23:28.180090Z"
    }
   },
   "outputs": [],
   "source": [
    "def windowing_arr(series, window_size, output_size=1, shuffle_buffer=1000):\n",
    "    ds = tf.data.Dataset.from_tensor_slices(series)\n",
    "    windows = ds.window(window_size + output_size, shift=1, drop_remainder=True)\n",
    "    ds = windows.flat_map(lambda window: window.batch(window_size + output_size))\n",
    "    ds = ds.shuffle(shuffle_buffer)\n",
    "    ds = ds.map(lambda window: (window[:-output_size], window[-output_size:]))\n",
    "    ds = np.array(list(ds.as_numpy_iterator()))\n",
    "    x = np.array(ds[:, 0].tolist())\n",
    "    y = np.array(ds[:, 1].tolist())\n",
    "    return x, y\n",
    "\n",
    "def windowing_arr2(series, window_size, output_size=1, shuffle_buffer=1000):\n",
    "    ds = tf.data.Dataset.from_tensor_slices(series)\n",
    "    windows = ds.window(window_size + output_size, shift=1, drop_remainder=True)\n",
    "    ds = windows.flat_map(lambda window: window.batch(window_size + output_size))\n",
    "    ds = ds.shuffle(shuffle_buffer)\n",
    "    ds = ds.map(lambda window: (window[:-output_size], window[output_size:]))\n",
    "    ds = np.array(list(ds.as_numpy_iterator()))\n",
    "    x = np.array(ds[:, 0].tolist())\n",
    "    y = np.array(ds[:, 1].tolist())\n",
    "    return x, y"
   ]
  },
  {
   "cell_type": "markdown",
   "metadata": {},
   "source": [
    "## Load Data"
   ]
  },
  {
   "cell_type": "code",
   "execution_count": 3,
   "metadata": {
    "execution": {
     "iopub.execute_input": "2020-07-28T08:23:28.192091Z",
     "iopub.status.busy": "2020-07-28T08:23:28.192091Z",
     "iopub.status.idle": "2020-07-28T08:23:28.209096Z",
     "shell.execute_reply": "2020-07-28T08:23:28.209096Z",
     "shell.execute_reply.started": "2020-07-28T08:23:28.192091Z"
    }
   },
   "outputs": [],
   "source": [
    "df = pd.read_csv(\"./data/sunspots.csv\")"
   ]
  },
  {
   "cell_type": "code",
   "execution_count": 4,
   "metadata": {
    "execution": {
     "iopub.execute_input": "2020-07-28T08:23:28.211096Z",
     "iopub.status.busy": "2020-07-28T08:23:28.210097Z",
     "iopub.status.idle": "2020-07-28T08:23:28.228099Z",
     "shell.execute_reply": "2020-07-28T08:23:28.228099Z",
     "shell.execute_reply.started": "2020-07-28T08:23:28.211096Z"
    }
   },
   "outputs": [
    {
     "data": {
      "text/html": [
       "<div>\n",
       "<style scoped>\n",
       "    .dataframe tbody tr th:only-of-type {\n",
       "        vertical-align: middle;\n",
       "    }\n",
       "\n",
       "    .dataframe tbody tr th {\n",
       "        vertical-align: top;\n",
       "    }\n",
       "\n",
       "    .dataframe thead th {\n",
       "        text-align: right;\n",
       "    }\n",
       "</style>\n",
       "<table border=\"1\" class=\"dataframe\">\n",
       "  <thead>\n",
       "    <tr style=\"text-align: right;\">\n",
       "      <th></th>\n",
       "      <th>Date</th>\n",
       "      <th>monthly_sunspot</th>\n",
       "    </tr>\n",
       "  </thead>\n",
       "  <tbody>\n",
       "    <tr>\n",
       "      <th>0</th>\n",
       "      <td>1749-01-31</td>\n",
       "      <td>96.7</td>\n",
       "    </tr>\n",
       "    <tr>\n",
       "      <th>1</th>\n",
       "      <td>1749-02-28</td>\n",
       "      <td>104.3</td>\n",
       "    </tr>\n",
       "    <tr>\n",
       "      <th>2</th>\n",
       "      <td>1749-03-31</td>\n",
       "      <td>116.7</td>\n",
       "    </tr>\n",
       "    <tr>\n",
       "      <th>3</th>\n",
       "      <td>1749-04-30</td>\n",
       "      <td>92.8</td>\n",
       "    </tr>\n",
       "    <tr>\n",
       "      <th>4</th>\n",
       "      <td>1749-05-31</td>\n",
       "      <td>141.7</td>\n",
       "    </tr>\n",
       "  </tbody>\n",
       "</table>\n",
       "</div>"
      ],
      "text/plain": [
       "        Date  monthly_sunspot\n",
       "0 1749-01-31             96.7\n",
       "1 1749-02-28            104.3\n",
       "2 1749-03-31            116.7\n",
       "3 1749-04-30             92.8\n",
       "4 1749-05-31            141.7"
      ]
     },
     "execution_count": 4,
     "metadata": {},
     "output_type": "execute_result"
    }
   ],
   "source": [
    "df.drop(columns=[df.columns[0]], axis=1, inplace=True)\n",
    "df.rename(columns={df.columns[1]: 'monthly_sunspot'}, inplace=True)\n",
    "df['Date'] = pd.to_datetime(df['Date'])\n",
    "\n",
    "df.head()"
   ]
  },
  {
   "cell_type": "code",
   "execution_count": 5,
   "metadata": {
    "execution": {
     "iopub.execute_input": "2020-07-28T08:23:28.229101Z",
     "iopub.status.busy": "2020-07-28T08:23:28.229101Z",
     "iopub.status.idle": "2020-07-28T08:23:28.247105Z",
     "shell.execute_reply": "2020-07-28T08:23:28.247105Z",
     "shell.execute_reply.started": "2020-07-28T08:23:28.229101Z"
    }
   },
   "outputs": [
    {
     "name": "stdout",
     "output_type": "stream",
     "text": [
      "<class 'pandas.core.frame.DataFrame'>\n",
      "RangeIndex: 3252 entries, 0 to 3251\n",
      "Data columns (total 2 columns):\n",
      " #   Column           Non-Null Count  Dtype         \n",
      "---  ------           --------------  -----         \n",
      " 0   Date             3252 non-null   datetime64[ns]\n",
      " 1   monthly_sunspot  3252 non-null   float64       \n",
      "dtypes: datetime64[ns](1), float64(1)\n",
      "memory usage: 50.9 KB\n"
     ]
    }
   ],
   "source": [
    "df.info()"
   ]
  },
  {
   "cell_type": "markdown",
   "metadata": {},
   "source": [
    "### preprocess data"
   ]
  },
  {
   "cell_type": "code",
   "execution_count": 6,
   "metadata": {
    "execution": {
     "iopub.execute_input": "2020-07-28T08:23:28.249107Z",
     "iopub.status.busy": "2020-07-28T08:23:28.248106Z",
     "iopub.status.idle": "2020-07-28T08:23:28.260107Z",
     "shell.execute_reply": "2020-07-28T08:23:28.259108Z",
     "shell.execute_reply.started": "2020-07-28T08:23:28.249107Z"
    }
   },
   "outputs": [],
   "source": [
    "window_size = 30\n",
    "output_size = 1\n",
    "shuffle_buffer  = 1000\n",
    "split_time = 2800"
   ]
  },
  {
   "cell_type": "code",
   "execution_count": 7,
   "metadata": {
    "execution": {
     "iopub.execute_input": "2020-07-28T08:23:28.261108Z",
     "iopub.status.busy": "2020-07-28T08:23:28.260107Z",
     "iopub.status.idle": "2020-07-28T08:23:28.273119Z",
     "shell.execute_reply": "2020-07-28T08:23:28.273119Z",
     "shell.execute_reply.started": "2020-07-28T08:23:28.261108Z"
    }
   },
   "outputs": [],
   "source": [
    "sunspot = df['monthly_sunspot']\n",
    "\n",
    "train = sunspot[:split_time]\n",
    "dev = sunspot[split_time:]"
   ]
  },
  {
   "cell_type": "code",
   "execution_count": 8,
   "metadata": {
    "execution": {
     "iopub.execute_input": "2020-07-28T08:23:28.275111Z",
     "iopub.status.busy": "2020-07-28T08:23:28.275111Z",
     "iopub.status.idle": "2020-07-28T08:23:30.298568Z",
     "shell.execute_reply": "2020-07-28T08:23:30.297567Z",
     "shell.execute_reply.started": "2020-07-28T08:23:28.275111Z"
    }
   },
   "outputs": [],
   "source": [
    "X_train, Y_train = windowing_arr2(train, window_size, output_size, shuffle_buffer)\n",
    "X_dev, Y_dev = windowing_arr2(dev, window_size, output_size, shuffle_buffer)"
   ]
  },
  {
   "cell_type": "code",
   "execution_count": 9,
   "metadata": {
    "execution": {
     "iopub.execute_input": "2020-07-28T08:23:30.300568Z",
     "iopub.status.busy": "2020-07-28T08:23:30.300568Z",
     "iopub.status.idle": "2020-07-28T08:23:30.308570Z",
     "shell.execute_reply": "2020-07-28T08:23:30.307569Z",
     "shell.execute_reply.started": "2020-07-28T08:23:30.300568Z"
    }
   },
   "outputs": [
    {
     "data": {
      "text/plain": [
       "((2770, 30), (2770, 30))"
      ]
     },
     "execution_count": 9,
     "metadata": {},
     "output_type": "execute_result"
    }
   ],
   "source": [
    "X_train.shape, Y_train.shape"
   ]
  },
  {
   "cell_type": "code",
   "execution_count": 10,
   "metadata": {
    "execution": {
     "iopub.execute_input": "2020-07-28T08:23:30.309570Z",
     "iopub.status.busy": "2020-07-28T08:23:30.309570Z",
     "iopub.status.idle": "2020-07-28T08:23:30.318572Z",
     "shell.execute_reply": "2020-07-28T08:23:30.317573Z",
     "shell.execute_reply.started": "2020-07-28T08:23:30.309570Z"
    }
   },
   "outputs": [
    {
     "data": {
      "text/plain": [
       "((422, 30), (422, 30))"
      ]
     },
     "execution_count": 10,
     "metadata": {},
     "output_type": "execute_result"
    }
   ],
   "source": [
    "X_dev.shape, Y_dev.shape"
   ]
  },
  {
   "cell_type": "code",
   "execution_count": 11,
   "metadata": {
    "execution": {
     "iopub.execute_input": "2020-07-28T08:23:30.319571Z",
     "iopub.status.busy": "2020-07-28T08:23:30.319571Z",
     "iopub.status.idle": "2020-07-28T08:23:30.332575Z",
     "shell.execute_reply": "2020-07-28T08:23:30.332575Z",
     "shell.execute_reply.started": "2020-07-28T08:23:30.319571Z"
    }
   },
   "outputs": [],
   "source": [
    "X_train = np.expand_dims(X_train, axis=-1)\n",
    "X_dev = np.expand_dims(X_dev, axis=-1)\n",
    "\n",
    "Y_train = np.expand_dims(Y_train, axis=-1)\n",
    "Y_dev = np.expand_dims(Y_dev, axis=-1)"
   ]
  },
  {
   "cell_type": "code",
   "execution_count": 12,
   "metadata": {
    "execution": {
     "iopub.execute_input": "2020-07-28T08:23:30.334575Z",
     "iopub.status.busy": "2020-07-28T08:23:30.333584Z",
     "iopub.status.idle": "2020-07-28T08:23:30.346580Z",
     "shell.execute_reply": "2020-07-28T08:23:30.345579Z",
     "shell.execute_reply.started": "2020-07-28T08:23:30.334575Z"
    }
   },
   "outputs": [
    {
     "data": {
      "text/plain": [
       "((2770, 30, 1), (422, 30, 1))"
      ]
     },
     "execution_count": 12,
     "metadata": {},
     "output_type": "execute_result"
    }
   ],
   "source": [
    "X_train.shape, X_dev.shape"
   ]
  },
  {
   "cell_type": "code",
   "execution_count": 13,
   "metadata": {
    "execution": {
     "iopub.execute_input": "2020-07-28T08:23:30.347579Z",
     "iopub.status.busy": "2020-07-28T08:23:30.347579Z",
     "iopub.status.idle": "2020-07-28T08:23:30.362581Z",
     "shell.execute_reply": "2020-07-28T08:23:30.362581Z",
     "shell.execute_reply.started": "2020-07-28T08:23:30.347579Z"
    }
   },
   "outputs": [
    {
     "data": {
      "text/plain": [
       "((2770, 30, 1), (422, 30, 1))"
      ]
     },
     "execution_count": 13,
     "metadata": {},
     "output_type": "execute_result"
    }
   ],
   "source": [
    "Y_train.shape, Y_dev.shape"
   ]
  },
  {
   "cell_type": "markdown",
   "metadata": {},
   "source": [
    "> (sample size, time step, channel)"
   ]
  },
  {
   "cell_type": "markdown",
   "metadata": {},
   "source": [
    "## Model"
   ]
  },
  {
   "cell_type": "markdown",
   "metadata": {},
   "source": [
    "#### Conv 1d Layer\n",
    "\n",
    "```python\n",
    "Conv1D(num_filter, ...)\n",
    "```\n",
    "num filter แสดงถึงจำนวน channel หลังจากทำ conv\n",
    "\n",
    "##### padding\n",
    "One of \"valid\", `\"causal\"` or `\"same\"` (case-insensitive). `\"causal\"` results in causal (dilated) convolutions, e.g. `output[t]` does not depend on `input[t+1:]`. Useful when modeling temporal data where the model should not violate the temporal order.\n",
    "\n",
    "##### input shape\n",
    "`(m sample, num channel)`"
   ]
  },
  {
   "cell_type": "code",
   "execution_count": 14,
   "metadata": {
    "execution": {
     "iopub.execute_input": "2020-07-28T08:23:30.363590Z",
     "iopub.status.busy": "2020-07-28T08:23:30.363590Z",
     "iopub.status.idle": "2020-07-28T08:23:30.690656Z",
     "shell.execute_reply": "2020-07-28T08:23:30.690656Z",
     "shell.execute_reply.started": "2020-07-28T08:23:30.363590Z"
    }
   },
   "outputs": [],
   "source": [
    "model = Sequential()\n",
    "\n",
    "# conv1d layer\n",
    "# num output channel (num filter)\n",
    "conv_layer = Conv1D(24, kernel_size=5, \n",
    "                    strides=1, padding=\"causal\",\n",
    "                   activation=\"relu\", input_shape=[None, 1])\n",
    "\n",
    "model.add(conv_layer)\n",
    "model.add(LSTM(window_size, return_sequences=True))\n",
    "model.add(Dense(1))"
   ]
  },
  {
   "cell_type": "code",
   "execution_count": 15,
   "metadata": {
    "execution": {
     "iopub.execute_input": "2020-07-28T08:23:30.691664Z",
     "iopub.status.busy": "2020-07-28T08:23:30.691664Z",
     "iopub.status.idle": "2020-07-28T08:23:30.702658Z",
     "shell.execute_reply": "2020-07-28T08:23:30.702658Z",
     "shell.execute_reply.started": "2020-07-28T08:23:30.691664Z"
    }
   },
   "outputs": [],
   "source": [
    "opt = Adam(learning_rate=1e-3)\n",
    "model.compile(optimizer=opt, loss=\"mean_absolute_error\")"
   ]
  },
  {
   "cell_type": "code",
   "execution_count": 16,
   "metadata": {
    "execution": {
     "iopub.execute_input": "2020-07-28T08:23:30.703659Z",
     "iopub.status.busy": "2020-07-28T08:23:30.703659Z",
     "iopub.status.idle": "2020-07-28T08:24:59.381614Z",
     "shell.execute_reply": "2020-07-28T08:24:59.381614Z",
     "shell.execute_reply.started": "2020-07-28T08:23:30.703659Z"
    }
   },
   "outputs": [
    {
     "name": "stdout",
     "output_type": "stream",
     "text": [
      "Epoch 1/100\n",
      "174/174 - 2s - loss: 77.1733 - val_loss: 69.3123\n",
      "Epoch 2/100\n",
      "174/174 - 1s - loss: 71.1469 - val_loss: 64.9277\n",
      "Epoch 3/100\n",
      "174/174 - 1s - loss: 67.2143 - val_loss: 61.4252\n",
      "Epoch 4/100\n",
      "174/174 - 1s - loss: 63.8011 - val_loss: 58.3744\n",
      "Epoch 5/100\n",
      "174/174 - 1s - loss: 60.6377 - val_loss: 55.5078\n",
      "Epoch 6/100\n",
      "174/174 - 1s - loss: 57.6002 - val_loss: 52.8664\n",
      "Epoch 7/100\n",
      "174/174 - 1s - loss: 54.7621 - val_loss: 50.3804\n",
      "Epoch 8/100\n",
      "174/174 - 1s - loss: 52.0789 - val_loss: 48.1005\n",
      "Epoch 9/100\n",
      "174/174 - 1s - loss: 49.5546 - val_loss: 45.8914\n",
      "Epoch 10/100\n",
      "174/174 - 1s - loss: 47.2335 - val_loss: 43.7882\n",
      "Epoch 11/100\n",
      "174/174 - 1s - loss: 45.0631 - val_loss: 41.8870\n",
      "Epoch 12/100\n",
      "174/174 - 1s - loss: 43.1251 - val_loss: 40.1139\n",
      "Epoch 13/100\n",
      "174/174 - 1s - loss: 41.2068 - val_loss: 38.4309\n",
      "Epoch 14/100\n",
      "174/174 - 1s - loss: 39.4689 - val_loss: 37.0728\n",
      "Epoch 15/100\n",
      "174/174 - 1s - loss: 37.8997 - val_loss: 35.5173\n",
      "Epoch 16/100\n",
      "174/174 - 1s - loss: 36.3747 - val_loss: 34.1649\n",
      "Epoch 17/100\n",
      "174/174 - 1s - loss: 35.0315 - val_loss: 32.9614\n",
      "Epoch 18/100\n",
      "174/174 - 1s - loss: 33.7970 - val_loss: 31.8859\n",
      "Epoch 19/100\n",
      "174/174 - 1s - loss: 32.6644 - val_loss: 30.7629\n",
      "Epoch 20/100\n",
      "174/174 - 1s - loss: 31.6298 - val_loss: 29.7894\n",
      "Epoch 21/100\n",
      "174/174 - 1s - loss: 30.7068 - val_loss: 28.8336\n",
      "Epoch 22/100\n",
      "174/174 - 1s - loss: 29.7820 - val_loss: 28.0939\n",
      "Epoch 23/100\n",
      "174/174 - 1s - loss: 28.9498 - val_loss: 27.4425\n",
      "Epoch 24/100\n",
      "174/174 - 1s - loss: 28.1740 - val_loss: 26.5579\n",
      "Epoch 25/100\n",
      "174/174 - 1s - loss: 27.4477 - val_loss: 25.9530\n",
      "Epoch 26/100\n",
      "174/174 - 1s - loss: 26.7493 - val_loss: 25.3324\n",
      "Epoch 27/100\n",
      "174/174 - 1s - loss: 26.1503 - val_loss: 24.6564\n",
      "Epoch 28/100\n",
      "174/174 - 1s - loss: 25.5240 - val_loss: 24.1362\n",
      "Epoch 29/100\n",
      "174/174 - 1s - loss: 24.9281 - val_loss: 23.6699\n",
      "Epoch 30/100\n",
      "174/174 - 1s - loss: 24.3192 - val_loss: 22.9840\n",
      "Epoch 31/100\n",
      "174/174 - 1s - loss: 23.7673 - val_loss: 22.4580\n",
      "Epoch 32/100\n",
      "174/174 - 1s - loss: 23.2417 - val_loss: 22.2119\n",
      "Epoch 33/100\n",
      "174/174 - 1s - loss: 22.7741 - val_loss: 21.6134\n",
      "Epoch 34/100\n",
      "174/174 - 1s - loss: 22.3418 - val_loss: 21.0049\n",
      "Epoch 35/100\n",
      "174/174 - 1s - loss: 21.9358 - val_loss: 20.6009\n",
      "Epoch 36/100\n",
      "174/174 - 1s - loss: 21.5225 - val_loss: 20.2494\n",
      "Epoch 37/100\n",
      "174/174 - 1s - loss: 21.0378 - val_loss: 19.9743\n",
      "Epoch 38/100\n",
      "174/174 - 1s - loss: 20.6314 - val_loss: 19.6274\n",
      "Epoch 39/100\n",
      "174/174 - 1s - loss: 20.2110 - val_loss: 19.2864\n",
      "Epoch 40/100\n",
      "174/174 - 1s - loss: 19.8846 - val_loss: 18.9350\n",
      "Epoch 41/100\n",
      "174/174 - 1s - loss: 19.6003 - val_loss: 18.9183\n",
      "Epoch 42/100\n",
      "174/174 - 1s - loss: 19.2960 - val_loss: 18.4889\n",
      "Epoch 43/100\n",
      "174/174 - 1s - loss: 19.0010 - val_loss: 18.1803\n",
      "Epoch 44/100\n",
      "174/174 - 1s - loss: 18.7264 - val_loss: 18.1505\n",
      "Epoch 45/100\n",
      "174/174 - 1s - loss: 18.5035 - val_loss: 17.8120\n",
      "Epoch 46/100\n",
      "174/174 - 1s - loss: 18.2978 - val_loss: 17.7557\n",
      "Epoch 47/100\n",
      "174/174 - 1s - loss: 18.1097 - val_loss: 17.5915\n",
      "Epoch 48/100\n",
      "174/174 - 1s - loss: 17.8500 - val_loss: 17.3020\n",
      "Epoch 49/100\n",
      "174/174 - 1s - loss: 17.6816 - val_loss: 17.3135\n",
      "Epoch 50/100\n",
      "174/174 - 1s - loss: 17.5066 - val_loss: 17.1683\n",
      "Epoch 51/100\n",
      "174/174 - 1s - loss: 17.3852 - val_loss: 17.1431\n",
      "Epoch 52/100\n",
      "174/174 - 1s - loss: 17.1954 - val_loss: 17.0955\n",
      "Epoch 53/100\n",
      "174/174 - 1s - loss: 17.0634 - val_loss: 17.2161\n",
      "Epoch 54/100\n",
      "174/174 - 1s - loss: 16.9184 - val_loss: 17.0221\n",
      "Epoch 55/100\n",
      "174/174 - 1s - loss: 16.8527 - val_loss: 16.9238\n",
      "Epoch 56/100\n",
      "174/174 - 1s - loss: 16.6902 - val_loss: 16.9563\n",
      "Epoch 57/100\n",
      "174/174 - 1s - loss: 16.5834 - val_loss: 16.8770\n",
      "Epoch 58/100\n",
      "174/174 - 1s - loss: 16.4746 - val_loss: 16.9950\n",
      "Epoch 59/100\n",
      "174/174 - 1s - loss: 16.4181 - val_loss: 16.8621\n",
      "Epoch 60/100\n",
      "174/174 - 1s - loss: 16.2862 - val_loss: 16.9686\n",
      "Epoch 61/100\n",
      "174/174 - 1s - loss: 16.2020 - val_loss: 16.7520\n",
      "Epoch 62/100\n",
      "174/174 - 1s - loss: 16.0992 - val_loss: 16.8783\n",
      "Epoch 63/100\n",
      "174/174 - 1s - loss: 16.0513 - val_loss: 16.9511\n",
      "Epoch 64/100\n",
      "174/174 - 1s - loss: 16.0477 - val_loss: 16.7846\n",
      "Epoch 65/100\n",
      "174/174 - 1s - loss: 15.8280 - val_loss: 16.8267\n",
      "Epoch 66/100\n",
      "174/174 - 1s - loss: 15.7629 - val_loss: 16.9032\n",
      "Epoch 67/100\n",
      "174/174 - 1s - loss: 15.6710 - val_loss: 16.9558\n",
      "Epoch 68/100\n",
      "174/174 - 1s - loss: 15.6516 - val_loss: 17.1176\n",
      "Epoch 69/100\n",
      "174/174 - 1s - loss: 15.5899 - val_loss: 17.0827\n",
      "Epoch 70/100\n",
      "174/174 - 1s - loss: 15.5236 - val_loss: 16.9262\n",
      "Epoch 71/100\n",
      "174/174 - 1s - loss: 15.4543 - val_loss: 17.0012\n",
      "Epoch 72/100\n",
      "174/174 - 1s - loss: 15.3545 - val_loss: 17.0999\n",
      "Epoch 73/100\n",
      "174/174 - 1s - loss: 15.3155 - val_loss: 17.0972\n",
      "Epoch 74/100\n",
      "174/174 - 1s - loss: 15.2599 - val_loss: 17.0088\n",
      "Epoch 75/100\n",
      "174/174 - 1s - loss: 15.2195 - val_loss: 16.9779\n",
      "Epoch 76/100\n",
      "174/174 - 1s - loss: 15.1811 - val_loss: 17.2951\n",
      "Epoch 77/100\n",
      "174/174 - 1s - loss: 15.1507 - val_loss: 17.1070\n",
      "Epoch 78/100\n",
      "174/174 - 1s - loss: 15.0910 - val_loss: 17.2686\n",
      "Epoch 79/100\n",
      "174/174 - 1s - loss: 14.9762 - val_loss: 17.2371\n",
      "Epoch 80/100\n",
      "174/174 - 1s - loss: 14.9746 - val_loss: 17.1762\n",
      "Epoch 81/100\n",
      "174/174 - 1s - loss: 14.9015 - val_loss: 17.3751\n",
      "Epoch 82/100\n",
      "174/174 - 1s - loss: 14.8658 - val_loss: 17.2219\n",
      "Epoch 83/100\n",
      "174/174 - 1s - loss: 14.8298 - val_loss: 17.3906\n",
      "Epoch 84/100\n",
      "174/174 - 1s - loss: 14.7700 - val_loss: 17.4059\n",
      "Epoch 85/100\n",
      "174/174 - 1s - loss: 14.7826 - val_loss: 17.3932\n",
      "Epoch 86/100\n",
      "174/174 - 1s - loss: 14.7137 - val_loss: 17.5277\n",
      "Epoch 87/100\n",
      "174/174 - 1s - loss: 14.6990 - val_loss: 17.4442\n",
      "Epoch 88/100\n",
      "174/174 - 1s - loss: 14.6451 - val_loss: 17.4330\n",
      "Epoch 89/100\n",
      "174/174 - 1s - loss: 14.5998 - val_loss: 17.3824\n",
      "Epoch 90/100\n",
      "174/174 - 1s - loss: 14.6150 - val_loss: 17.7894\n",
      "Epoch 91/100\n",
      "174/174 - 1s - loss: 14.5947 - val_loss: 17.3737\n",
      "Epoch 92/100\n",
      "174/174 - 1s - loss: 14.5015 - val_loss: 17.4644\n",
      "Epoch 93/100\n",
      "174/174 - 1s - loss: 14.4471 - val_loss: 17.6639\n",
      "Epoch 94/100\n",
      "174/174 - 1s - loss: 14.3772 - val_loss: 17.5957\n",
      "Epoch 95/100\n",
      "174/174 - 1s - loss: 14.3755 - val_loss: 17.6106\n",
      "Epoch 96/100\n",
      "174/174 - 1s - loss: 14.3438 - val_loss: 17.5505\n",
      "Epoch 97/100\n",
      "174/174 - 1s - loss: 14.3372 - val_loss: 17.3883\n",
      "Epoch 98/100\n",
      "174/174 - 1s - loss: 14.2935 - val_loss: 17.6515\n",
      "Epoch 99/100\n",
      "174/174 - 1s - loss: 14.2889 - val_loss: 17.7428\n",
      "Epoch 100/100\n",
      "174/174 - 1s - loss: 14.2950 - val_loss: 17.4218\n"
     ]
    }
   ],
   "source": [
    "num_epochs = 100\n",
    "batch_size = 16\n",
    "\n",
    "hist = model.fit(X_train, Y_train, \n",
    "                 epochs=num_epochs, batch_size=batch_size, \n",
    "                 validation_data=(X_dev, Y_dev), verbose=2)"
   ]
  },
  {
   "cell_type": "code",
   "execution_count": 17,
   "metadata": {
    "execution": {
     "iopub.execute_input": "2020-07-28T08:24:59.382615Z",
     "iopub.status.busy": "2020-07-28T08:24:59.382615Z",
     "iopub.status.idle": "2020-07-28T08:24:59.626628Z",
     "shell.execute_reply": "2020-07-28T08:24:59.626628Z",
     "shell.execute_reply.started": "2020-07-28T08:24:59.382615Z"
    }
   },
   "outputs": [
    {
     "data": {
      "text/plain": [
       "<matplotlib.axes._subplots.AxesSubplot at 0x21626218cd0>"
      ]
     },
     "execution_count": 17,
     "metadata": {},
     "output_type": "execute_result"
    },
    {
     "data": {
      "image/png": "[encoded data removed]",
      "text/plain": [
       "<Figure size 1050x450 with 1 Axes>"
      ]
     },
     "metadata": {},
     "output_type": "display_data"
    }
   ],
   "source": [
    "x_epochs = np.arange(1, num_epochs+1)\n",
    "sns.lineplot(x_epochs, hist.history['loss'])\n",
    "sns.lineplot(x_epochs, hist.history['val_loss'])"
   ]
  },
  {
   "cell_type": "code",
   "execution_count": 18,
   "metadata": {
    "execution": {
     "iopub.execute_input": "2020-07-28T08:24:59.627643Z",
     "iopub.status.busy": "2020-07-28T08:24:59.627643Z",
     "iopub.status.idle": "2020-07-28T08:25:00.320559Z",
     "shell.execute_reply": "2020-07-28T08:25:00.320559Z",
     "shell.execute_reply.started": "2020-07-28T08:24:59.627643Z"
    }
   },
   "outputs": [],
   "source": [
    "select_ind = 0\n",
    "predicted = model.predict(X_dev)[select_ind]"
   ]
  },
  {
   "cell_type": "code",
   "execution_count": 19,
   "metadata": {
    "execution": {
     "iopub.execute_input": "2020-07-28T08:25:00.321517Z",
     "iopub.status.busy": "2020-07-28T08:25:00.321517Z",
     "iopub.status.idle": "2020-07-28T08:25:00.590154Z",
     "shell.execute_reply": "2020-07-28T08:25:00.590154Z",
     "shell.execute_reply.started": "2020-07-28T08:25:00.321517Z"
    }
   },
   "outputs": [
    {
     "data": {
      "text/plain": [
       "<matplotlib.axes._subplots.AxesSubplot at 0x2161492a070>"
      ]
     },
     "execution_count": 19,
     "metadata": {},
     "output_type": "execute_result"
    },
    {
     "data": {
      "image/png": "[encoded data removed]",
      "text/plain": [
       "<Figure size 1050x450 with 1 Axes>"
      ]
     },
     "metadata": {},
     "output_type": "display_data"
    }
   ],
   "source": [
    "time_x = np.arange(len(predicted))\n",
    "shift_time_x = time_x + 1\n",
    "\n",
    "sns.lineplot(time_x, X_dev[select_ind].squeeze(), label='x', lw=2)\n",
    "sns.lineplot(shift_time_x, Y_dev[select_ind].squeeze(), label='y', lw=2, alpha=0.5)\n",
    "sns.lineplot(shift_time_x, predicted.squeeze(), label=\"predicted\")"
   ]
  },
  {
   "cell_type": "code",
   "execution_count": null,
   "metadata": {},
   "outputs": [],
   "source": []
  }
 ],
 "metadata": {
  "kernelspec": {
   "display_name": "Python 3",
   "language": "python",
   "name": "python3"
  },
  "language_info": {
   "codemirror_mode": {
    "name": "ipython",
    "version": 3
   },
   "file_extension": ".py",
   "mimetype": "text/x-python",
   "name": "python",
   "nbconvert_exporter": "python",
   "pygments_lexer": "ipython3",
   "version": "3.8.3"
  }
 },
 "nbformat": 4,
 "nbformat_minor": 4
}
