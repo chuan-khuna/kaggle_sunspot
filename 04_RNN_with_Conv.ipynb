{
 "cells": [
  {
   "cell_type": "code",
   "execution_count": 1,
   "metadata": {
    "execution": {
     "iopub.execute_input": "2020-07-28T08:28:54.419546Z",
     "iopub.status.busy": "2020-07-28T08:28:54.419546Z",
     "iopub.status.idle": "2020-07-28T08:28:57.652283Z",
     "shell.execute_reply": "2020-07-28T08:28:57.652283Z",
     "shell.execute_reply.started": "2020-07-28T08:28:54.419546Z"
    }
   },
   "outputs": [],
   "source": [
    "import numpy as np\n",
    "import pandas as pd\n",
    "\n",
    "import matplotlib.pyplot as plt\n",
    "import seaborn as sns\n",
    "\n",
    "sns.set(context=\"paper\", style=\"whitegrid\", \n",
    "       rc={\n",
    "           \"figure.figsize\": (21/2, 9/2),\n",
    "           \"figure.dpi\": 100\n",
    "       })\n",
    "google = [\"#4285F4\", \"#DB4437\", \"#F4B400\", \"#0F9D58\"]\n",
    "sns.set_palette(google)\n",
    "\n",
    "seed_ = 20200218\n",
    "np.random.seed(seed_)\n",
    "\n",
    "\n",
    "import keras\n",
    "from keras.models import Sequential\n",
    "from keras.layers import Dense, LSTM, RNN, Activation, Conv1D, Lambda\n",
    "from keras.optimizers import *\n",
    "\n",
    "import tensorflow as tf\n",
    "tf.random.set_seed(seed_)"
   ]
  },
  {
   "cell_type": "markdown",
   "metadata": {},
   "source": [
    "### preprocess function"
   ]
  },
  {
   "cell_type": "markdown",
   "metadata": {},
   "source": [
    "### มันมีอีกแบบนึง\n",
    "```python\n",
    "ds = ds.map(lambda window: (window[:-output_size], window[output_size:]))\n",
    "```\n",
    "> (window[:-output_size], window[output_size:]) จะใช้เป็น output จนจบ\n",
    "\n",
    "เหมือนเป็นการ shift ข้อมูล\n",
    "\n",
    "`[1, 2, 3, 4, 5] [6]`\n",
    "\n",
    "`[1, 2, 3, 4, 5], [2, 3, 4, 5, 6]`"
   ]
  },
  {
   "cell_type": "code",
   "execution_count": 2,
   "metadata": {
    "execution": {
     "iopub.execute_input": "2020-07-28T08:28:57.654275Z",
     "iopub.status.busy": "2020-07-28T08:28:57.654275Z",
     "iopub.status.idle": "2020-07-28T08:28:57.663742Z",
     "shell.execute_reply": "2020-07-28T08:28:57.663278Z",
     "shell.execute_reply.started": "2020-07-28T08:28:57.654275Z"
    }
   },
   "outputs": [],
   "source": [
    "def windowing_arr(series, window_size, output_size=1, shuffle_buffer=1000):\n",
    "    ds = tf.data.Dataset.from_tensor_slices(series)\n",
    "    windows = ds.window(window_size + output_size, shift=1, drop_remainder=True)\n",
    "    ds = windows.flat_map(lambda window: window.batch(window_size + output_size))\n",
    "    ds = ds.shuffle(shuffle_buffer)\n",
    "    ds = ds.map(lambda window: (window[:-output_size], window[-output_size:]))\n",
    "    ds = np.array(list(ds.as_numpy_iterator()))\n",
    "    x = np.array(ds[:, 0].tolist())\n",
    "    y = np.array(ds[:, 1].tolist())\n",
    "    return x, y\n",
    "\n",
    "def windowing_arr2(series, window_size, output_size=1, shuffle_buffer=1000):\n",
    "    ds = tf.data.Dataset.from_tensor_slices(series)\n",
    "    windows = ds.window(window_size + output_size, shift=1, drop_remainder=True)\n",
    "    ds = windows.flat_map(lambda window: window.batch(window_size + output_size))\n",
    "    ds = ds.shuffle(shuffle_buffer)\n",
    "    ds = ds.map(lambda window: (window[:-output_size], window[output_size:]))\n",
    "    ds = np.array(list(ds.as_numpy_iterator()))\n",
    "    x = np.array(ds[:, 0].tolist())\n",
    "    y = np.array(ds[:, 1].tolist())\n",
    "    return x, y"
   ]
  },
  {
   "cell_type": "markdown",
   "metadata": {},
   "source": [
    "## Load Data"
   ]
  },
  {
   "cell_type": "code",
   "execution_count": 3,
   "metadata": {
    "execution": {
     "iopub.execute_input": "2020-07-28T08:28:57.665278Z",
     "iopub.status.busy": "2020-07-28T08:28:57.665278Z",
     "iopub.status.idle": "2020-07-28T08:28:57.685283Z",
     "shell.execute_reply": "2020-07-28T08:28:57.684284Z",
     "shell.execute_reply.started": "2020-07-28T08:28:57.665278Z"
    }
   },
   "outputs": [],
   "source": [
    "df = pd.read_csv(\"./data/sunspots.csv\")"
   ]
  },
  {
   "cell_type": "code",
   "execution_count": 4,
   "metadata": {
    "execution": {
     "iopub.execute_input": "2020-07-28T08:28:57.686283Z",
     "iopub.status.busy": "2020-07-28T08:28:57.685283Z",
     "iopub.status.idle": "2020-07-28T08:28:57.702286Z",
     "shell.execute_reply": "2020-07-28T08:28:57.702286Z",
     "shell.execute_reply.started": "2020-07-28T08:28:57.686283Z"
    }
   },
   "outputs": [
    {
     "data": {
      "text/html": [
       "<div>\n",
       "<style scoped>\n",
       "    .dataframe tbody tr th:only-of-type {\n",
       "        vertical-align: middle;\n",
       "    }\n",
       "\n",
       "    .dataframe tbody tr th {\n",
       "        vertical-align: top;\n",
       "    }\n",
       "\n",
       "    .dataframe thead th {\n",
       "        text-align: right;\n",
       "    }\n",
       "</style>\n",
       "<table border=\"1\" class=\"dataframe\">\n",
       "  <thead>\n",
       "    <tr style=\"text-align: right;\">\n",
       "      <th></th>\n",
       "      <th>Date</th>\n",
       "      <th>monthly_sunspot</th>\n",
       "    </tr>\n",
       "  </thead>\n",
       "  <tbody>\n",
       "    <tr>\n",
       "      <th>0</th>\n",
       "      <td>1749-01-31</td>\n",
       "      <td>96.7</td>\n",
       "    </tr>\n",
       "    <tr>\n",
       "      <th>1</th>\n",
       "      <td>1749-02-28</td>\n",
       "      <td>104.3</td>\n",
       "    </tr>\n",
       "    <tr>\n",
       "      <th>2</th>\n",
       "      <td>1749-03-31</td>\n",
       "      <td>116.7</td>\n",
       "    </tr>\n",
       "    <tr>\n",
       "      <th>3</th>\n",
       "      <td>1749-04-30</td>\n",
       "      <td>92.8</td>\n",
       "    </tr>\n",
       "    <tr>\n",
       "      <th>4</th>\n",
       "      <td>1749-05-31</td>\n",
       "      <td>141.7</td>\n",
       "    </tr>\n",
       "  </tbody>\n",
       "</table>\n",
       "</div>"
      ],
      "text/plain": [
       "        Date  monthly_sunspot\n",
       "0 1749-01-31             96.7\n",
       "1 1749-02-28            104.3\n",
       "2 1749-03-31            116.7\n",
       "3 1749-04-30             92.8\n",
       "4 1749-05-31            141.7"
      ]
     },
     "execution_count": 4,
     "metadata": {},
     "output_type": "execute_result"
    }
   ],
   "source": [
    "df.drop(columns=[df.columns[0]], axis=1, inplace=True)\n",
    "df.rename(columns={df.columns[1]: 'monthly_sunspot'}, inplace=True)\n",
    "df['Date'] = pd.to_datetime(df['Date'])\n",
    "\n",
    "df.head()"
   ]
  },
  {
   "cell_type": "code",
   "execution_count": 5,
   "metadata": {
    "execution": {
     "iopub.execute_input": "2020-07-28T08:28:57.704288Z",
     "iopub.status.busy": "2020-07-28T08:28:57.703286Z",
     "iopub.status.idle": "2020-07-28T08:28:57.715289Z",
     "shell.execute_reply": "2020-07-28T08:28:57.715289Z",
     "shell.execute_reply.started": "2020-07-28T08:28:57.704288Z"
    }
   },
   "outputs": [
    {
     "name": "stdout",
     "output_type": "stream",
     "text": [
      "<class 'pandas.core.frame.DataFrame'>\n",
      "RangeIndex: 3252 entries, 0 to 3251\n",
      "Data columns (total 2 columns):\n",
      " #   Column           Non-Null Count  Dtype         \n",
      "---  ------           --------------  -----         \n",
      " 0   Date             3252 non-null   datetime64[ns]\n",
      " 1   monthly_sunspot  3252 non-null   float64       \n",
      "dtypes: datetime64[ns](1), float64(1)\n",
      "memory usage: 50.9 KB\n"
     ]
    }
   ],
   "source": [
    "df.info()"
   ]
  },
  {
   "cell_type": "markdown",
   "metadata": {},
   "source": [
    "### preprocess data"
   ]
  },
  {
   "cell_type": "code",
   "execution_count": 6,
   "metadata": {
    "execution": {
     "iopub.execute_input": "2020-07-28T08:28:57.716290Z",
     "iopub.status.busy": "2020-07-28T08:28:57.716290Z",
     "iopub.status.idle": "2020-07-28T08:28:57.725300Z",
     "shell.execute_reply": "2020-07-28T08:28:57.725300Z",
     "shell.execute_reply.started": "2020-07-28T08:28:57.716290Z"
    }
   },
   "outputs": [],
   "source": [
    "window_size = 32\n",
    "output_size = 1\n",
    "shuffle_buffer  = 1000\n",
    "split_time = 2800"
   ]
  },
  {
   "cell_type": "code",
   "execution_count": 7,
   "metadata": {
    "execution": {
     "iopub.execute_input": "2020-07-28T08:28:57.726300Z",
     "iopub.status.busy": "2020-07-28T08:28:57.726300Z",
     "iopub.status.idle": "2020-07-28T08:28:57.740304Z",
     "shell.execute_reply": "2020-07-28T08:28:57.740304Z",
     "shell.execute_reply.started": "2020-07-28T08:28:57.726300Z"
    }
   },
   "outputs": [],
   "source": [
    "sunspot = df['monthly_sunspot']\n",
    "\n",
    "train = sunspot[:split_time]\n",
    "dev = sunspot[split_time:]"
   ]
  },
  {
   "cell_type": "code",
   "execution_count": 8,
   "metadata": {
    "execution": {
     "iopub.execute_input": "2020-07-28T08:28:57.743296Z",
     "iopub.status.busy": "2020-07-28T08:28:57.742295Z",
     "iopub.status.idle": "2020-07-28T08:28:59.607791Z",
     "shell.execute_reply": "2020-07-28T08:28:59.607791Z",
     "shell.execute_reply.started": "2020-07-28T08:28:57.743296Z"
    }
   },
   "outputs": [],
   "source": [
    "X_train, Y_train = windowing_arr2(train, window_size, output_size, shuffle_buffer)\n",
    "X_dev, Y_dev = windowing_arr2(dev, window_size, output_size, shuffle_buffer)"
   ]
  },
  {
   "cell_type": "code",
   "execution_count": 9,
   "metadata": {
    "execution": {
     "iopub.execute_input": "2020-07-28T08:28:59.609782Z",
     "iopub.status.busy": "2020-07-28T08:28:59.608781Z",
     "iopub.status.idle": "2020-07-28T08:28:59.615784Z",
     "shell.execute_reply": "2020-07-28T08:28:59.614783Z",
     "shell.execute_reply.started": "2020-07-28T08:28:59.609782Z"
    }
   },
   "outputs": [
    {
     "data": {
      "text/plain": [
       "((2768, 32), (2768, 32))"
      ]
     },
     "execution_count": 9,
     "metadata": {},
     "output_type": "execute_result"
    }
   ],
   "source": [
    "X_train.shape, Y_train.shape"
   ]
  },
  {
   "cell_type": "code",
   "execution_count": 10,
   "metadata": {
    "execution": {
     "iopub.execute_input": "2020-07-28T08:28:59.616784Z",
     "iopub.status.busy": "2020-07-28T08:28:59.616784Z",
     "iopub.status.idle": "2020-07-28T08:28:59.633788Z",
     "shell.execute_reply": "2020-07-28T08:28:59.632787Z",
     "shell.execute_reply.started": "2020-07-28T08:28:59.616784Z"
    }
   },
   "outputs": [
    {
     "data": {
      "text/plain": [
       "((420, 32), (420, 32))"
      ]
     },
     "execution_count": 10,
     "metadata": {},
     "output_type": "execute_result"
    }
   ],
   "source": [
    "X_dev.shape, Y_dev.shape"
   ]
  },
  {
   "cell_type": "code",
   "execution_count": 11,
   "metadata": {
    "execution": {
     "iopub.execute_input": "2020-07-28T08:28:59.635789Z",
     "iopub.status.busy": "2020-07-28T08:28:59.634788Z",
     "iopub.status.idle": "2020-07-28T08:28:59.647792Z",
     "shell.execute_reply": "2020-07-28T08:28:59.647792Z",
     "shell.execute_reply.started": "2020-07-28T08:28:59.635789Z"
    }
   },
   "outputs": [],
   "source": [
    "X_train = np.expand_dims(X_train, axis=-1)\n",
    "X_dev = np.expand_dims(X_dev, axis=-1)\n",
    "\n",
    "Y_train = np.expand_dims(Y_train, axis=-1)\n",
    "Y_dev = np.expand_dims(Y_dev, axis=-1)"
   ]
  },
  {
   "cell_type": "code",
   "execution_count": 12,
   "metadata": {
    "execution": {
     "iopub.execute_input": "2020-07-28T08:28:59.649792Z",
     "iopub.status.busy": "2020-07-28T08:28:59.648792Z",
     "iopub.status.idle": "2020-07-28T08:28:59.658795Z",
     "shell.execute_reply": "2020-07-28T08:28:59.658795Z",
     "shell.execute_reply.started": "2020-07-28T08:28:59.649792Z"
    }
   },
   "outputs": [
    {
     "data": {
      "text/plain": [
       "((2768, 32, 1), (420, 32, 1))"
      ]
     },
     "execution_count": 12,
     "metadata": {},
     "output_type": "execute_result"
    }
   ],
   "source": [
    "X_train.shape, X_dev.shape"
   ]
  },
  {
   "cell_type": "code",
   "execution_count": 13,
   "metadata": {
    "execution": {
     "iopub.execute_input": "2020-07-28T08:28:59.659795Z",
     "iopub.status.busy": "2020-07-28T08:28:59.659795Z",
     "iopub.status.idle": "2020-07-28T08:28:59.670797Z",
     "shell.execute_reply": "2020-07-28T08:28:59.669796Z",
     "shell.execute_reply.started": "2020-07-28T08:28:59.659795Z"
    }
   },
   "outputs": [
    {
     "data": {
      "text/plain": [
       "((2768, 32, 1), (420, 32, 1))"
      ]
     },
     "execution_count": 13,
     "metadata": {},
     "output_type": "execute_result"
    }
   ],
   "source": [
    "Y_train.shape, Y_dev.shape"
   ]
  },
  {
   "cell_type": "markdown",
   "metadata": {},
   "source": [
    "> (sample size, time step, channel)"
   ]
  },
  {
   "cell_type": "markdown",
   "metadata": {},
   "source": [
    "## Model"
   ]
  },
  {
   "cell_type": "markdown",
   "metadata": {},
   "source": [
    "#### Conv 1d Layer\n",
    "\n",
    "```python\n",
    "Conv1D(num_filter, ...)\n",
    "```\n",
    "num filter แสดงถึงจำนวน channel หลังจากทำ conv\n",
    "\n",
    "##### padding\n",
    "One of \"valid\", `\"causal\"` or `\"same\"` (case-insensitive). `\"causal\"` results in causal (dilated) convolutions, e.g. `output[t]` does not depend on `input[t+1:]`. Useful when modeling temporal data where the model should not violate the temporal order.\n",
    "\n",
    "##### input shape\n",
    "`(time step, num channel)`"
   ]
  },
  {
   "cell_type": "code",
   "execution_count": 14,
   "metadata": {
    "execution": {
     "iopub.execute_input": "2020-07-28T08:28:59.671797Z",
     "iopub.status.busy": "2020-07-28T08:28:59.670797Z",
     "iopub.status.idle": "2020-07-28T08:29:00.367962Z",
     "shell.execute_reply": "2020-07-28T08:29:00.367962Z",
     "shell.execute_reply.started": "2020-07-28T08:28:59.671797Z"
    }
   },
   "outputs": [],
   "source": [
    "model = Sequential()\n",
    "\n",
    "# conv1d layer\n",
    "# num output channel (num filter)\n",
    "conv_layer = Conv1D(24, kernel_size=5, \n",
    "                    strides=1, padding=\"causal\",\n",
    "                   activation=\"relu\", input_shape=[None, 1])\n",
    "\n",
    "model.add(conv_layer)\n",
    "model.add(LSTM(window_size, return_sequences=True))\n",
    "model.add(LSTM(window_size//2, return_sequences=True))\n",
    "model.add(Dense(4, activation=\"relu\"))\n",
    "model.add(Dense(1))"
   ]
  },
  {
   "cell_type": "code",
   "execution_count": 15,
   "metadata": {
    "execution": {
     "iopub.execute_input": "2020-07-28T08:29:00.368962Z",
     "iopub.status.busy": "2020-07-28T08:29:00.368962Z",
     "iopub.status.idle": "2020-07-28T08:29:00.379956Z",
     "shell.execute_reply": "2020-07-28T08:29:00.379956Z",
     "shell.execute_reply.started": "2020-07-28T08:29:00.368962Z"
    }
   },
   "outputs": [],
   "source": [
    "opt = Adam(learning_rate=1e-3)\n",
    "model.compile(optimizer=opt, loss=\"mean_absolute_error\")"
   ]
  },
  {
   "cell_type": "code",
   "execution_count": 16,
   "metadata": {
    "execution": {
     "iopub.execute_input": "2020-07-28T08:29:00.381956Z",
     "iopub.status.busy": "2020-07-28T08:29:00.380956Z",
     "iopub.status.idle": "2020-07-28T08:30:42.520015Z",
     "shell.execute_reply": "2020-07-28T08:30:42.520015Z",
     "shell.execute_reply.started": "2020-07-28T08:29:00.381956Z"
    }
   },
   "outputs": [
    {
     "name": "stdout",
     "output_type": "stream",
     "text": [
      "Epoch 1/100\n",
      "173/173 - 2s - loss: 77.4374 - val_loss: 68.9300\n",
      "Epoch 2/100\n",
      "173/173 - 1s - loss: 68.1363 - val_loss: 59.4240\n",
      "Epoch 3/100\n",
      "173/173 - 1s - loss: 57.6394 - val_loss: 49.1373\n",
      "Epoch 4/100\n",
      "173/173 - 1s - loss: 46.4147 - val_loss: 39.1030\n",
      "Epoch 5/100\n",
      "173/173 - 1s - loss: 37.0505 - val_loss: 31.9316\n",
      "Epoch 6/100\n",
      "173/173 - 1s - loss: 30.7027 - val_loss: 27.0556\n",
      "Epoch 7/100\n",
      "173/173 - 1s - loss: 26.5890 - val_loss: 23.9635\n",
      "Epoch 8/100\n",
      "173/173 - 1s - loss: 23.6196 - val_loss: 21.6186\n",
      "Epoch 9/100\n",
      "173/173 - 1s - loss: 21.4165 - val_loss: 19.4616\n",
      "Epoch 10/100\n",
      "173/173 - 1s - loss: 19.6616 - val_loss: 18.4549\n",
      "Epoch 11/100\n",
      "173/173 - 1s - loss: 18.3708 - val_loss: 17.7817\n",
      "Epoch 12/100\n",
      "173/173 - 1s - loss: 17.4858 - val_loss: 17.5651\n",
      "Epoch 13/100\n",
      "173/173 - 1s - loss: 16.8378 - val_loss: 17.3104\n",
      "Epoch 14/100\n",
      "173/173 - 1s - loss: 16.3334 - val_loss: 17.3113\n",
      "Epoch 15/100\n",
      "173/173 - 1s - loss: 15.9272 - val_loss: 17.2990\n",
      "Epoch 16/100\n",
      "173/173 - 1s - loss: 15.6292 - val_loss: 17.4217\n",
      "Epoch 17/100\n",
      "173/173 - 1s - loss: 15.3330 - val_loss: 17.5680\n",
      "Epoch 18/100\n",
      "173/173 - 1s - loss: 15.0927 - val_loss: 17.5218\n",
      "Epoch 19/100\n",
      "173/173 - 1s - loss: 14.8881 - val_loss: 17.6572\n",
      "Epoch 20/100\n",
      "173/173 - 1s - loss: 14.6360 - val_loss: 17.7929\n",
      "Epoch 21/100\n",
      "173/173 - 1s - loss: 14.5940 - val_loss: 17.6713\n",
      "Epoch 22/100\n",
      "173/173 - 1s - loss: 14.3532 - val_loss: 17.6303\n",
      "Epoch 23/100\n",
      "173/173 - 1s - loss: 14.1701 - val_loss: 17.7104\n",
      "Epoch 24/100\n",
      "173/173 - 1s - loss: 13.9891 - val_loss: 17.8754\n",
      "Epoch 25/100\n",
      "173/173 - 1s - loss: 13.9064 - val_loss: 17.7368\n",
      "Epoch 26/100\n",
      "173/173 - 1s - loss: 13.7910 - val_loss: 17.6572\n",
      "Epoch 27/100\n",
      "173/173 - 1s - loss: 13.6422 - val_loss: 17.8025\n",
      "Epoch 28/100\n",
      "173/173 - 1s - loss: 13.5674 - val_loss: 18.2053\n",
      "Epoch 29/100\n",
      "173/173 - 1s - loss: 13.4294 - val_loss: 17.9511\n",
      "Epoch 30/100\n",
      "173/173 - 1s - loss: 13.2941 - val_loss: 17.7779\n",
      "Epoch 31/100\n",
      "173/173 - 1s - loss: 13.1820 - val_loss: 18.0302\n",
      "Epoch 32/100\n",
      "173/173 - 1s - loss: 13.1839 - val_loss: 18.1915\n",
      "Epoch 33/100\n",
      "173/173 - 1s - loss: 13.0123 - val_loss: 17.9895\n",
      "Epoch 34/100\n",
      "173/173 - 1s - loss: 12.8395 - val_loss: 17.8815\n",
      "Epoch 35/100\n",
      "173/173 - 1s - loss: 12.8206 - val_loss: 18.2357\n",
      "Epoch 36/100\n",
      "173/173 - 1s - loss: 12.7406 - val_loss: 18.1386\n",
      "Epoch 37/100\n",
      "173/173 - 1s - loss: 12.7349 - val_loss: 17.7635\n",
      "Epoch 38/100\n",
      "173/173 - 1s - loss: 12.5040 - val_loss: 18.0846\n",
      "Epoch 39/100\n",
      "173/173 - 1s - loss: 12.4701 - val_loss: 18.0650\n",
      "Epoch 40/100\n",
      "173/173 - 1s - loss: 12.3316 - val_loss: 18.4766\n",
      "Epoch 41/100\n",
      "173/173 - 1s - loss: 12.2667 - val_loss: 18.3120\n",
      "Epoch 42/100\n",
      "173/173 - 1s - loss: 12.1837 - val_loss: 18.2708\n",
      "Epoch 43/100\n",
      "173/173 - 1s - loss: 12.0329 - val_loss: 18.3836\n",
      "Epoch 44/100\n",
      "173/173 - 1s - loss: 12.0416 - val_loss: 18.5022\n",
      "Epoch 45/100\n",
      "173/173 - 1s - loss: 11.9288 - val_loss: 18.2588\n",
      "Epoch 46/100\n",
      "173/173 - 1s - loss: 11.8591 - val_loss: 18.4104\n",
      "Epoch 47/100\n",
      "173/173 - 1s - loss: 11.8645 - val_loss: 18.8183\n",
      "Epoch 48/100\n",
      "173/173 - 1s - loss: 11.7401 - val_loss: 18.6997\n",
      "Epoch 49/100\n",
      "173/173 - 1s - loss: 11.6449 - val_loss: 18.5837\n",
      "Epoch 50/100\n",
      "173/173 - 1s - loss: 11.6262 - val_loss: 18.9146\n",
      "Epoch 51/100\n",
      "173/173 - 1s - loss: 11.5369 - val_loss: 18.5282\n",
      "Epoch 52/100\n",
      "173/173 - 1s - loss: 11.4796 - val_loss: 18.7159\n",
      "Epoch 53/100\n",
      "173/173 - 1s - loss: 11.3256 - val_loss: 18.8827\n",
      "Epoch 54/100\n",
      "173/173 - 1s - loss: 11.5043 - val_loss: 18.8548\n",
      "Epoch 55/100\n",
      "173/173 - 1s - loss: 11.2802 - val_loss: 18.8468\n",
      "Epoch 56/100\n",
      "173/173 - 1s - loss: 11.2532 - val_loss: 18.6383\n",
      "Epoch 57/100\n",
      "173/173 - 1s - loss: 11.1651 - val_loss: 18.8518\n",
      "Epoch 58/100\n",
      "173/173 - 1s - loss: 11.0667 - val_loss: 18.7357\n",
      "Epoch 59/100\n",
      "173/173 - 1s - loss: 11.0634 - val_loss: 19.2609\n",
      "Epoch 60/100\n",
      "173/173 - 1s - loss: 10.9872 - val_loss: 18.8021\n",
      "Epoch 61/100\n",
      "173/173 - 1s - loss: 11.0085 - val_loss: 19.0904\n",
      "Epoch 62/100\n",
      "173/173 - 1s - loss: 10.9619 - val_loss: 18.8449\n",
      "Epoch 63/100\n",
      "173/173 - 1s - loss: 10.8149 - val_loss: 18.9985\n",
      "Epoch 64/100\n",
      "173/173 - 1s - loss: 10.6970 - val_loss: 19.1420\n",
      "Epoch 65/100\n",
      "173/173 - 1s - loss: 10.7195 - val_loss: 18.9831\n",
      "Epoch 66/100\n",
      "173/173 - 1s - loss: 10.7022 - val_loss: 19.0390\n",
      "Epoch 67/100\n",
      "173/173 - 1s - loss: 10.6209 - val_loss: 18.9337\n",
      "Epoch 68/100\n",
      "173/173 - 1s - loss: 10.5692 - val_loss: 19.2909\n",
      "Epoch 69/100\n",
      "173/173 - 1s - loss: 10.4843 - val_loss: 18.8541\n",
      "Epoch 70/100\n",
      "173/173 - 1s - loss: 10.4528 - val_loss: 19.1265\n",
      "Epoch 71/100\n",
      "173/173 - 1s - loss: 10.4247 - val_loss: 19.0288\n",
      "Epoch 72/100\n",
      "173/173 - 1s - loss: 10.3953 - val_loss: 19.5815\n",
      "Epoch 73/100\n",
      "173/173 - 1s - loss: 10.3483 - val_loss: 18.8984\n",
      "Epoch 74/100\n",
      "173/173 - 1s - loss: 10.2690 - val_loss: 19.3850\n",
      "Epoch 75/100\n",
      "173/173 - 1s - loss: 10.1951 - val_loss: 19.1131\n",
      "Epoch 76/100\n",
      "173/173 - 1s - loss: 10.1621 - val_loss: 18.9583\n",
      "Epoch 77/100\n",
      "173/173 - 1s - loss: 10.1209 - val_loss: 19.5640\n",
      "Epoch 78/100\n",
      "173/173 - 1s - loss: 10.0975 - val_loss: 18.9382\n",
      "Epoch 79/100\n",
      "173/173 - 1s - loss: 10.0481 - val_loss: 19.3633\n",
      "Epoch 80/100\n",
      "173/173 - 1s - loss: 9.9709 - val_loss: 19.1131\n",
      "Epoch 81/100\n",
      "173/173 - 1s - loss: 9.9931 - val_loss: 19.0641\n",
      "Epoch 82/100\n",
      "173/173 - 1s - loss: 9.8814 - val_loss: 19.1931\n",
      "Epoch 83/100\n",
      "173/173 - 1s - loss: 9.9344 - val_loss: 19.4353\n",
      "Epoch 84/100\n",
      "173/173 - 1s - loss: 9.7817 - val_loss: 19.1194\n",
      "Epoch 85/100\n",
      "173/173 - 1s - loss: 9.7786 - val_loss: 19.2580\n",
      "Epoch 86/100\n",
      "173/173 - 1s - loss: 9.7222 - val_loss: 19.4722\n",
      "Epoch 87/100\n",
      "173/173 - 1s - loss: 9.7550 - val_loss: 19.4486\n",
      "Epoch 88/100\n",
      "173/173 - 1s - loss: 9.6635 - val_loss: 19.1782\n",
      "Epoch 89/100\n",
      "173/173 - 1s - loss: 9.6515 - val_loss: 19.1366\n",
      "Epoch 90/100\n",
      "173/173 - 1s - loss: 9.5792 - val_loss: 19.4893\n",
      "Epoch 91/100\n",
      "173/173 - 1s - loss: 9.6333 - val_loss: 19.2138\n",
      "Epoch 92/100\n",
      "173/173 - 1s - loss: 9.5511 - val_loss: 19.3874\n",
      "Epoch 93/100\n",
      "173/173 - 1s - loss: 9.4779 - val_loss: 19.1855\n",
      "Epoch 94/100\n",
      "173/173 - 1s - loss: 9.4427 - val_loss: 19.2405\n",
      "Epoch 95/100\n",
      "173/173 - 1s - loss: 9.4033 - val_loss: 19.1850\n",
      "Epoch 96/100\n",
      "173/173 - 1s - loss: 9.4050 - val_loss: 19.1852\n",
      "Epoch 97/100\n",
      "173/173 - 1s - loss: 9.3569 - val_loss: 19.3752\n",
      "Epoch 98/100\n",
      "173/173 - 1s - loss: 9.3759 - val_loss: 19.2656\n",
      "Epoch 99/100\n",
      "173/173 - 1s - loss: 9.2904 - val_loss: 19.1607\n",
      "Epoch 100/100\n",
      "173/173 - 1s - loss: 9.2113 - val_loss: 19.2323\n"
     ]
    }
   ],
   "source": [
    "num_epochs = 100\n",
    "batch_size = 16\n",
    "\n",
    "hist = model.fit(X_train, Y_train, \n",
    "                 epochs=num_epochs, batch_size=batch_size, \n",
    "                 validation_data=(X_dev, Y_dev), verbose=2)"
   ]
  },
  {
   "cell_type": "code",
   "execution_count": 17,
   "metadata": {
    "execution": {
     "iopub.execute_input": "2020-07-28T08:30:42.521016Z",
     "iopub.status.busy": "2020-07-28T08:30:42.521016Z",
     "iopub.status.idle": "2020-07-28T08:30:42.780072Z",
     "shell.execute_reply": "2020-07-28T08:30:42.780072Z",
     "shell.execute_reply.started": "2020-07-28T08:30:42.521016Z"
    }
   },
   "outputs": [
    {
     "data": {
      "text/plain": [
       "<matplotlib.axes._subplots.AxesSubplot at 0x214aca14370>"
      ]
     },
     "execution_count": 17,
     "metadata": {},
     "output_type": "execute_result"
    },
    {
     "data": {
      "image/png": "[encoded data removed]",
      "text/plain": [
       "<Figure size 1050x450 with 1 Axes>"
      ]
     },
     "metadata": {},
     "output_type": "display_data"
    }
   ],
   "source": [
    "x_epochs = np.arange(1, num_epochs+1)\n",
    "sns.lineplot(x_epochs, hist.history['loss'])\n",
    "sns.lineplot(x_epochs, hist.history['val_loss'])"
   ]
  },
  {
   "cell_type": "code",
   "execution_count": 18,
   "metadata": {
    "execution": {
     "iopub.execute_input": "2020-07-28T08:30:42.782073Z",
     "iopub.status.busy": "2020-07-28T08:30:42.781073Z",
     "iopub.status.idle": "2020-07-28T08:30:43.619280Z",
     "shell.execute_reply": "2020-07-28T08:30:43.619280Z",
     "shell.execute_reply.started": "2020-07-28T08:30:42.781073Z"
    }
   },
   "outputs": [],
   "source": [
    "select_ind = 0\n",
    "predicted = model.predict(X_dev)[select_ind]"
   ]
  },
  {
   "cell_type": "code",
   "execution_count": 19,
   "metadata": {
    "execution": {
     "iopub.execute_input": "2020-07-28T08:30:43.620271Z",
     "iopub.status.busy": "2020-07-28T08:30:43.620271Z",
     "iopub.status.idle": "2020-07-28T08:30:43.880321Z",
     "shell.execute_reply": "2020-07-28T08:30:43.880321Z",
     "shell.execute_reply.started": "2020-07-28T08:30:43.620271Z"
    }
   },
   "outputs": [
    {
     "data": {
      "text/plain": [
       "<matplotlib.axes._subplots.AxesSubplot at 0x214b04c6c10>"
      ]
     },
     "execution_count": 19,
     "metadata": {},
     "output_type": "execute_result"
    },
    {
     "data": {
      "image/png": "[encoded data removed]",
      "text/plain": [
       "<Figure size 1050x450 with 1 Axes>"
      ]
     },
     "metadata": {},
     "output_type": "display_data"
    }
   ],
   "source": [
    "time_x = np.arange(len(predicted))\n",
    "shift_time_x = time_x + 1\n",
    "\n",
    "sns.lineplot(time_x, X_dev[select_ind].squeeze(), label='x', lw=2)\n",
    "sns.lineplot(shift_time_x, Y_dev[select_ind].squeeze(), label='y', lw=2, alpha=0.5)\n",
    "sns.lineplot(shift_time_x, predicted.squeeze(), label=\"predicted\")"
   ]
  },
  {
   "cell_type": "code",
   "execution_count": null,
   "metadata": {},
   "outputs": [],
   "source": []
  }
 ],
 "metadata": {
  "kernelspec": {
   "display_name": "Python 3",
   "language": "python",
   "name": "python3"
  },
  "language_info": {
   "codemirror_mode": {
    "name": "ipython",
    "version": 3
   },
   "file_extension": ".py",
   "mimetype": "text/x-python",
   "name": "python",
   "nbconvert_exporter": "python",
   "pygments_lexer": "ipython3",
   "version": "3.8.3"
  }
 },
 "nbformat": 4,
 "nbformat_minor": 4
}
