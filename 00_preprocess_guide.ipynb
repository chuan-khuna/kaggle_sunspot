{
 "cells": [
  {
   "cell_type": "code",
   "execution_count": 1,
   "metadata": {
    "execution": {
     "iopub.execute_input": "2020-07-23T10:24:17.087173Z",
     "iopub.status.busy": "2020-07-23T10:24:17.087173Z",
     "iopub.status.idle": "2020-07-23T10:24:19.732769Z",
     "shell.execute_reply": "2020-07-23T10:24:19.732769Z",
     "shell.execute_reply.started": "2020-07-23T10:24:17.087173Z"
    }
   },
   "outputs": [],
   "source": [
    "import numpy as np\n",
    "import pandas as pd\n",
    "\n",
    "import tensorflow as tf\n",
    "import keras"
   ]
  },
  {
   "cell_type": "code",
   "execution_count": 2,
   "metadata": {
    "execution": {
     "iopub.execute_input": "2020-07-23T10:24:19.734769Z",
     "iopub.status.busy": "2020-07-23T10:24:19.734769Z",
     "iopub.status.idle": "2020-07-23T10:24:19.741771Z",
     "shell.execute_reply": "2020-07-23T10:24:19.741771Z",
     "shell.execute_reply.started": "2020-07-23T10:24:19.734769Z"
    }
   },
   "outputs": [],
   "source": [
    "df = pd.read_csv(\"./data/sunspots.csv\")"
   ]
  },
  {
   "cell_type": "code",
   "execution_count": 3,
   "metadata": {
    "execution": {
     "iopub.execute_input": "2020-07-23T10:24:19.742771Z",
     "iopub.status.busy": "2020-07-23T10:24:19.742771Z",
     "iopub.status.idle": "2020-07-23T10:24:19.764776Z",
     "shell.execute_reply": "2020-07-23T10:24:19.764776Z",
     "shell.execute_reply.started": "2020-07-23T10:24:19.742771Z"
    }
   },
   "outputs": [
    {
     "data": {
      "text/html": [
       "<div>\n",
       "<style scoped>\n",
       "    .dataframe tbody tr th:only-of-type {\n",
       "        vertical-align: middle;\n",
       "    }\n",
       "\n",
       "    .dataframe tbody tr th {\n",
       "        vertical-align: top;\n",
       "    }\n",
       "\n",
       "    .dataframe thead th {\n",
       "        text-align: right;\n",
       "    }\n",
       "</style>\n",
       "<table border=\"1\" class=\"dataframe\">\n",
       "  <thead>\n",
       "    <tr style=\"text-align: right;\">\n",
       "      <th></th>\n",
       "      <th>Unnamed: 0</th>\n",
       "      <th>Date</th>\n",
       "      <th>Monthly Mean Total Sunspot Number</th>\n",
       "    </tr>\n",
       "  </thead>\n",
       "  <tbody>\n",
       "    <tr>\n",
       "      <th>0</th>\n",
       "      <td>0</td>\n",
       "      <td>1749-01-31</td>\n",
       "      <td>96.7</td>\n",
       "    </tr>\n",
       "    <tr>\n",
       "      <th>1</th>\n",
       "      <td>1</td>\n",
       "      <td>1749-02-28</td>\n",
       "      <td>104.3</td>\n",
       "    </tr>\n",
       "    <tr>\n",
       "      <th>2</th>\n",
       "      <td>2</td>\n",
       "      <td>1749-03-31</td>\n",
       "      <td>116.7</td>\n",
       "    </tr>\n",
       "    <tr>\n",
       "      <th>3</th>\n",
       "      <td>3</td>\n",
       "      <td>1749-04-30</td>\n",
       "      <td>92.8</td>\n",
       "    </tr>\n",
       "    <tr>\n",
       "      <th>4</th>\n",
       "      <td>4</td>\n",
       "      <td>1749-05-31</td>\n",
       "      <td>141.7</td>\n",
       "    </tr>\n",
       "  </tbody>\n",
       "</table>\n",
       "</div>"
      ],
      "text/plain": [
       "   Unnamed: 0        Date  Monthly Mean Total Sunspot Number\n",
       "0           0  1749-01-31                               96.7\n",
       "1           1  1749-02-28                              104.3\n",
       "2           2  1749-03-31                              116.7\n",
       "3           3  1749-04-30                               92.8\n",
       "4           4  1749-05-31                              141.7"
      ]
     },
     "execution_count": 3,
     "metadata": {},
     "output_type": "execute_result"
    }
   ],
   "source": [
    "df.head()"
   ]
  },
  {
   "cell_type": "code",
   "execution_count": 4,
   "metadata": {
    "execution": {
     "iopub.execute_input": "2020-07-23T10:24:19.765776Z",
     "iopub.status.busy": "2020-07-23T10:24:19.765776Z",
     "iopub.status.idle": "2020-07-23T10:24:19.783789Z",
     "shell.execute_reply": "2020-07-23T10:24:19.783789Z",
     "shell.execute_reply.started": "2020-07-23T10:24:19.765776Z"
    }
   },
   "outputs": [],
   "source": [
    "sunspot = df['Monthly Mean Total Sunspot Number']"
   ]
  },
  {
   "cell_type": "markdown",
   "metadata": {},
   "source": [
    "## Rolling Window\n",
    "\n",
    "สรุปการแบ่ง time series data ให้เป็น window โดยใช้ tensor flow"
   ]
  },
  {
   "cell_type": "code",
   "execution_count": 5,
   "metadata": {
    "execution": {
     "iopub.execute_input": "2020-07-23T10:24:19.784781Z",
     "iopub.status.busy": "2020-07-23T10:24:19.784781Z",
     "iopub.status.idle": "2020-07-23T10:24:19.797792Z",
     "shell.execute_reply": "2020-07-23T10:24:19.797792Z",
     "shell.execute_reply.started": "2020-07-23T10:24:19.784781Z"
    }
   },
   "outputs": [],
   "source": [
    "window_size = 5\n",
    "batch_size = 2"
   ]
  },
  {
   "cell_type": "code",
   "execution_count": 6,
   "metadata": {
    "execution": {
     "iopub.execute_input": "2020-07-23T10:24:19.799784Z",
     "iopub.status.busy": "2020-07-23T10:24:19.798784Z",
     "iopub.status.idle": "2020-07-23T10:24:20.556954Z",
     "shell.execute_reply": "2020-07-23T10:24:20.556954Z",
     "shell.execute_reply.started": "2020-07-23T10:24:19.799784Z"
    }
   },
   "outputs": [
    {
     "data": {
      "text/plain": [
       "<RangeDataset shapes: (), types: tf.int64>"
      ]
     },
     "execution_count": 6,
     "metadata": {},
     "output_type": "execute_result"
    }
   ],
   "source": [
    "ds = tf.data.Dataset.range(10)\n",
    "ds"
   ]
  },
  {
   "cell_type": "code",
   "execution_count": 7,
   "metadata": {
    "execution": {
     "iopub.execute_input": "2020-07-23T10:24:20.557955Z",
     "iopub.status.busy": "2020-07-23T10:24:20.557955Z",
     "iopub.status.idle": "2020-07-23T10:24:20.578968Z",
     "shell.execute_reply": "2020-07-23T10:24:20.578968Z",
     "shell.execute_reply.started": "2020-07-23T10:24:20.557955Z"
    }
   },
   "outputs": [
    {
     "name": "stdout",
     "output_type": "stream",
     "text": [
      "0\n",
      "1\n",
      "2\n",
      "3\n",
      "4\n",
      "5\n",
      "6\n",
      "7\n",
      "8\n",
      "9\n"
     ]
    }
   ],
   "source": [
    "for i in ds:\n",
    "    print(i.numpy())"
   ]
  },
  {
   "cell_type": "markdown",
   "metadata": {},
   "source": [
    "#### จัดข้อมูลให้เป็น windows ด้วย `.window()` \n",
    "\n",
    "```python\n",
    "ds = [...]\n",
    "ds = ds.window(window_size, shift=1, drop_remainder=True)\n",
    "```\n",
    "\n",
    "> `ds` บรรทัดล่างคือ list ของ window"
   ]
  },
  {
   "cell_type": "code",
   "execution_count": 8,
   "metadata": {
    "execution": {
     "iopub.execute_input": "2020-07-23T10:24:20.580960Z",
     "iopub.status.busy": "2020-07-23T10:24:20.580960Z",
     "iopub.status.idle": "2020-07-23T10:24:20.586970Z",
     "shell.execute_reply": "2020-07-23T10:24:20.586970Z",
     "shell.execute_reply.started": "2020-07-23T10:24:20.580960Z"
    }
   },
   "outputs": [
    {
     "data": {
      "text/plain": [
       "<WindowDataset shapes: DatasetSpec(TensorSpec(shape=(), dtype=tf.int64, name=None), TensorShape([])), types: DatasetSpec(TensorSpec(shape=(), dtype=tf.int64, name=None), TensorShape([]))>"
      ]
     },
     "execution_count": 8,
     "metadata": {},
     "output_type": "execute_result"
    }
   ],
   "source": [
    "ds = ds.window(window_size, shift=1, drop_remainder=True)\n",
    "ds"
   ]
  },
  {
   "cell_type": "markdown",
   "metadata": {},
   "source": [
    "#### ตัวอย่างเมื่อนำข้อมูลในแต่ละ window มาแสดงผล\n",
    "```\n",
    "0 1 2 3 4 \n",
    "1 2 3 4 5 \n",
    "2 3 4 5 6 \n",
    "3 4 5 6 7 \n",
    "4 5 6 7 8 \n",
    "5 6 7 8 9 \n",
    "```"
   ]
  },
  {
   "cell_type": "code",
   "execution_count": 9,
   "metadata": {
    "execution": {
     "iopub.execute_input": "2020-07-23T10:24:20.588961Z",
     "iopub.status.busy": "2020-07-23T10:24:20.588961Z",
     "iopub.status.idle": "2020-07-23T10:24:20.629971Z",
     "shell.execute_reply": "2020-07-23T10:24:20.629971Z",
     "shell.execute_reply.started": "2020-07-23T10:24:20.588961Z"
    }
   },
   "outputs": [
    {
     "name": "stdout",
     "output_type": "stream",
     "text": [
      "0 1 2 3 4 \n",
      "1 2 3 4 5 \n",
      "2 3 4 5 6 \n",
      "3 4 5 6 7 \n",
      "4 5 6 7 8 \n",
      "5 6 7 8 9 \n"
     ]
    }
   ],
   "source": [
    "for window in ds:\n",
    "    for val in window:\n",
    "        print(val.numpy(), end=\" \")\n",
    "    print()"
   ]
  },
  {
   "cell_type": "markdown",
   "metadata": {},
   "source": [
    "#### นำข้อมูลออกจาก window ด้วย `flat_map`\n",
    "\n",
    "จากข้างบน จะเห็นว่า loop ใน windows จะไม่ได้ข้อมูล ต้อง loop อีกชั้นนึง\n",
    "\n",
    "ใช้\n",
    "\n",
    "```\n",
    "ds.flat_map(lambda window: window.batch(window_size))\n",
    "```"
   ]
  },
  {
   "cell_type": "code",
   "execution_count": 10,
   "metadata": {
    "execution": {
     "iopub.execute_input": "2020-07-23T10:24:20.630971Z",
     "iopub.status.busy": "2020-07-23T10:24:20.630971Z",
     "iopub.status.idle": "2020-07-23T10:24:20.693985Z",
     "shell.execute_reply": "2020-07-23T10:24:20.693985Z",
     "shell.execute_reply.started": "2020-07-23T10:24:20.630971Z"
    }
   },
   "outputs": [
    {
     "name": "stdout",
     "output_type": "stream",
     "text": [
      "[0 1 2 3 4]\n",
      "[1 2 3 4 5]\n",
      "[2 3 4 5 6]\n",
      "[3 4 5 6 7]\n",
      "[4 5 6 7 8]\n",
      "[5 6 7 8 9]\n"
     ]
    }
   ],
   "source": [
    "ds = tf.data.Dataset.range(10)\n",
    "ds = ds.window(window_size, shift=1, drop_remainder=True)\n",
    "ds = ds.flat_map(lambda window: window.batch(window_size))\n",
    "for window in ds:\n",
    "    print(window.numpy())"
   ]
  },
  {
   "cell_type": "markdown",
   "metadata": {},
   "source": [
    "#### แยกข้อมูล x, y\n",
    "\n",
    "แยกข้อมูลที่เป็น input x, และ output y\n",
    "\n",
    "- x คือข้อมูลอดีต ... วัน สำหรับทำนายอนาคต y ... วัน\n",
    "\n",
    "```python\n",
    "ds = ds.map(lambda window: [window[:-1], window[-1:]])\n",
    "```\n",
    "> แบ่งข้อมูลตัวแรกจนถึง `n-1` เป็น x และตัวที่ `n` เป็น y\n",
    "\n",
    "เช่น ใช้ข้อมูล 4 วันก่อน ทำนาย 1 วันในอนาคต\n",
    "```\n",
    "[0 1 2 3] -> [4]\n",
    "[1 2 3 4] -> [5]\n",
    "[2 3 4 5] -> [6]\n",
    "[3 4 5 6] -> [7]\n",
    "[4 5 6 7] -> [8]\n",
    "[5 6 7 8] -> [9]\n",
    "```"
   ]
  },
  {
   "cell_type": "code",
   "execution_count": 11,
   "metadata": {
    "execution": {
     "iopub.execute_input": "2020-07-23T10:24:20.694987Z",
     "iopub.status.busy": "2020-07-23T10:24:20.694987Z",
     "iopub.status.idle": "2020-07-23T10:24:20.780005Z",
     "shell.execute_reply": "2020-07-23T10:24:20.780005Z",
     "shell.execute_reply.started": "2020-07-23T10:24:20.694987Z"
    }
   },
   "outputs": [
    {
     "name": "stdout",
     "output_type": "stream",
     "text": [
      "[0 1 2 3] -> [4]\n",
      "[1 2 3 4] -> [5]\n",
      "[2 3 4 5] -> [6]\n",
      "[3 4 5 6] -> [7]\n",
      "[4 5 6 7] -> [8]\n",
      "[5 6 7 8] -> [9]\n"
     ]
    }
   ],
   "source": [
    "ds = tf.data.Dataset.range(10)\n",
    "ds = ds.window(window_size, shift=1, drop_remainder=True)\n",
    "ds = ds.flat_map(lambda window: window.batch(window_size))\n",
    "ds = ds.map(lambda window: [window[:-1], window[-1:]])\n",
    "for x, y in ds:\n",
    "    print(x.numpy(), \"->\", y.numpy())"
   ]
  },
  {
   "cell_type": "markdown",
   "metadata": {},
   "source": [
    "#### จัดกลุ่มเป็น batch size\n",
    "\n",
    "```python\n",
    "ds = ds.batch(batch_size).prefetch(1)\n",
    "```"
   ]
  },
  {
   "cell_type": "code",
   "execution_count": 12,
   "metadata": {
    "execution": {
     "iopub.execute_input": "2020-07-23T10:24:20.781005Z",
     "iopub.status.busy": "2020-07-23T10:24:20.781005Z",
     "iopub.status.idle": "2020-07-23T10:24:20.858022Z",
     "shell.execute_reply": "2020-07-23T10:24:20.858022Z",
     "shell.execute_reply.started": "2020-07-23T10:24:20.781005Z"
    }
   },
   "outputs": [
    {
     "name": "stdout",
     "output_type": "stream",
     "text": [
      "x:  [[0, 1, 2, 3], [1, 2, 3, 4]]\n",
      "y:  [[4], [5]]\n",
      "\n",
      "x:  [[2, 3, 4, 5], [3, 4, 5, 6]]\n",
      "y:  [[6], [7]]\n",
      "\n",
      "x:  [[4, 5, 6, 7], [5, 6, 7, 8]]\n",
      "y:  [[8], [9]]\n",
      "\n"
     ]
    }
   ],
   "source": [
    "ds = tf.data.Dataset.range(10)\n",
    "ds = ds.window(window_size, shift=1, drop_remainder=True)\n",
    "ds = ds.flat_map(lambda window: window.batch(window_size))\n",
    "ds = ds.map(lambda window: [window[:-1], window[-1:]])\n",
    "ds = ds.batch(batch_size).prefetch(1)\n",
    "for x, y in ds:\n",
    "    print(\"x: \", x.numpy().tolist())\n",
    "    print(\"y: \", y.numpy().tolist())\n",
    "    print()"
   ]
  },
  {
   "cell_type": "markdown",
   "metadata": {},
   "source": [
    "#### เพิ่มการ Shuffle\n",
    "```python\n",
    "ds = ds.map(lambda window: (window[:-1], window[-1:]))\n",
    "ds = ds.shuffle(buffer_size=shuffle_buffer)\n",
    "ds = ds.batch(batch_size).prefetch(1)\n",
    "```\n",
    "\n",
    "`shuffle_buffer` = จำนวน sample"
   ]
  },
  {
   "cell_type": "markdown",
   "metadata": {},
   "source": [
    "## Rolling windows from Dataframe(series)"
   ]
  },
  {
   "cell_type": "code",
   "execution_count": 13,
   "metadata": {
    "execution": {
     "iopub.execute_input": "2020-07-23T10:24:20.859022Z",
     "iopub.status.busy": "2020-07-23T10:24:20.859022Z",
     "iopub.status.idle": "2020-07-23T10:24:20.941042Z",
     "shell.execute_reply": "2020-07-23T10:24:20.941042Z",
     "shell.execute_reply.started": "2020-07-23T10:24:20.859022Z"
    }
   },
   "outputs": [
    {
     "name": "stdout",
     "output_type": "stream",
     "text": [
      "[ 97. 104. 117.  93.] -> [142.]\n",
      "[104. 117.  93. 142.] -> [139.]\n",
      "[117.  93. 142. 139.] -> [158.]\n",
      "[ 93. 142. 139. 158.] -> [110.]\n",
      "[142. 139. 158. 110.] -> [126.]\n",
      "[139. 158. 110. 126.] -> [126.]\n",
      "[158. 110. 126. 126.] -> [264.]\n",
      "[110. 126. 126. 264.] -> [142.]\n",
      "[126. 126. 264. 142.] -> [122.]\n",
      "[126. 264. 142. 122.] -> [126.]\n",
      "[264. 142. 122. 126.] -> [149.]\n"
     ]
    }
   ],
   "source": [
    "ds = tf.data.Dataset.from_tensor_slices(sunspot)\n",
    "ds = ds.window(window_size, shift=1, drop_remainder=True)\n",
    "ds = ds.flat_map(lambda window: window.batch(window_size))\n",
    "ds = ds.map(lambda window: [window[:-1], window[-1:]])\n",
    "\n",
    "i = 0\n",
    "for window in ds:\n",
    "    x, y = window\n",
    "    print(x.numpy().round(), \"->\", y.numpy().round())\n",
    "    i += 1\n",
    "    if i > 10:\n",
    "        break"
   ]
  },
  {
   "cell_type": "markdown",
   "metadata": {},
   "source": [
    "## Windowed dataset function"
   ]
  },
  {
   "cell_type": "code",
   "execution_count": 14,
   "metadata": {
    "execution": {
     "iopub.execute_input": "2020-07-23T10:24:20.942041Z",
     "iopub.status.busy": "2020-07-23T10:24:20.942041Z",
     "iopub.status.idle": "2020-07-23T10:24:20.948043Z",
     "shell.execute_reply": "2020-07-23T10:24:20.947043Z",
     "shell.execute_reply.started": "2020-07-23T10:24:20.942041Z"
    }
   },
   "outputs": [],
   "source": [
    "def windowed_dataset(series, window_size, batch_size, shuffle_buffer):\n",
    "    ds = tf.data.Dataset.from_tensor_slices(series)\n",
    "    ds = ds.window(window_size + 1, shift=1, drop_remainder=True)\n",
    "    ds = ds.flat_map(lambda window: window.batch(window_size + 1))\n",
    "    ds = ds.shuffle(shuffle_buffer)\n",
    "    ds = ds.map(lambda window: (window[:-1], window[-1:]))\n",
    "    ds = ds.batch(batch_size).prefetch(1)\n",
    "    return ds"
   ]
  },
  {
   "cell_type": "code",
   "execution_count": 15,
   "metadata": {
    "execution": {
     "iopub.execute_input": "2020-07-23T10:24:20.949045Z",
     "iopub.status.busy": "2020-07-23T10:24:20.949045Z",
     "iopub.status.idle": "2020-07-23T10:24:21.029069Z",
     "shell.execute_reply": "2020-07-23T10:24:21.029069Z",
     "shell.execute_reply.started": "2020-07-23T10:24:20.949045Z"
    }
   },
   "outputs": [],
   "source": [
    "window_size = 24\n",
    "batch_size = 32\n",
    "shuffle_buffer = 10\n",
    "\n",
    "ds = windowed_dataset(sunspot, window_size, batch_size, shuffle_buffer)"
   ]
  },
  {
   "cell_type": "code",
   "execution_count": 16,
   "metadata": {
    "execution": {
     "iopub.execute_input": "2020-07-23T10:24:21.030061Z",
     "iopub.status.busy": "2020-07-23T10:24:21.030061Z",
     "iopub.status.idle": "2020-07-23T10:24:21.037063Z",
     "shell.execute_reply": "2020-07-23T10:24:21.036063Z",
     "shell.execute_reply.started": "2020-07-23T10:24:21.030061Z"
    }
   },
   "outputs": [],
   "source": [
    "def windowed_dataset_X_Y(series, window_size, batch_size, shuffle_buffer):\n",
    "    ds = tf.data.Dataset.from_tensor_slices(series)\n",
    "    ds = ds.window(window_size + 1, shift=1, drop_remainder=True)\n",
    "    ds = ds.flat_map(lambda window: window.batch(window_size + 1))\n",
    "    ds = ds.shuffle(shuffle_buffer)\n",
    "    ds = ds.map(lambda window: (window[:-1], window[-1:]))\n",
    "\n",
    "    \n",
    "    X = []\n",
    "    Y = []\n",
    "    \n",
    "    for window in ds:\n",
    "        x, y = window\n",
    "        X.append(x.numpy())\n",
    "        Y.append(y.numpy())\n",
    "    X = np.asarray(X)\n",
    "    Y = np.asarray(Y)\n",
    "    \n",
    "    return X, Y"
   ]
  },
  {
   "cell_type": "code",
   "execution_count": 17,
   "metadata": {
    "execution": {
     "iopub.execute_input": "2020-07-23T10:24:21.038063Z",
     "iopub.status.busy": "2020-07-23T10:24:21.037063Z",
     "iopub.status.idle": "2020-07-23T10:24:21.799236Z",
     "shell.execute_reply": "2020-07-23T10:24:21.799236Z",
     "shell.execute_reply.started": "2020-07-23T10:24:21.038063Z"
    }
   },
   "outputs": [],
   "source": [
    "X, Y = windowed_dataset_X_Y(sunspot, window_size, batch_size, shuffle_buffer)"
   ]
  },
  {
   "cell_type": "code",
   "execution_count": 18,
   "metadata": {
    "execution": {
     "iopub.execute_input": "2020-07-23T10:24:21.800235Z",
     "iopub.status.busy": "2020-07-23T10:24:21.800235Z",
     "iopub.status.idle": "2020-07-23T10:24:21.806237Z",
     "shell.execute_reply": "2020-07-23T10:24:21.805236Z",
     "shell.execute_reply.started": "2020-07-23T10:24:21.800235Z"
    }
   },
   "outputs": [
    {
     "data": {
      "text/plain": [
       "(3228, 24)"
      ]
     },
     "execution_count": 18,
     "metadata": {},
     "output_type": "execute_result"
    }
   ],
   "source": [
    "X.shape"
   ]
  },
  {
   "cell_type": "code",
   "execution_count": 19,
   "metadata": {
    "execution": {
     "iopub.execute_input": "2020-07-23T10:24:21.807237Z",
     "iopub.status.busy": "2020-07-23T10:24:21.807237Z",
     "iopub.status.idle": "2020-07-23T10:24:21.821241Z",
     "shell.execute_reply": "2020-07-23T10:24:21.821241Z",
     "shell.execute_reply.started": "2020-07-23T10:24:21.807237Z"
    }
   },
   "outputs": [
    {
     "data": {
      "text/plain": [
       "(3228, 1)"
      ]
     },
     "execution_count": 19,
     "metadata": {},
     "output_type": "execute_result"
    }
   ],
   "source": [
    "Y.shape"
   ]
  },
  {
   "cell_type": "code",
   "execution_count": null,
   "metadata": {},
   "outputs": [],
   "source": []
  }
 ],
 "metadata": {
  "kernelspec": {
   "display_name": "Python 3",
   "language": "python",
   "name": "python3"
  },
  "language_info": {
   "codemirror_mode": {
    "name": "ipython",
    "version": 3
   },
   "file_extension": ".py",
   "mimetype": "text/x-python",
   "name": "python",
   "nbconvert_exporter": "python",
   "pygments_lexer": "ipython3",
   "version": "3.8.3"
  }
 },
 "nbformat": 4,
 "nbformat_minor": 4
}
